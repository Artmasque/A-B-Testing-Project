{
 "cells": [
  {
   "cell_type": "markdown",
   "metadata": {},
   "source": [
    "# A/B Testing"
   ]
  },
  {
   "cell_type": "markdown",
   "metadata": {},
   "source": [
    "## Task statement\n",
    "\n",
    "You've received an analytical task from an international online store. Your predecessor failed to complete it: they launched an A/B test and then quit (to start a watermelon farm in Brazil). They left only the technical specifications and the test results. \n",
    "\n",
    "### Technical description\n",
    "\n",
    "- Test name: `recommender_system_test`\n",
    "- Groups: А (control), B (new payment funnel)\n",
    "- Launch date: 2020-12-07\n",
    "- The date when they stopped taking up new users: 2020-12-21\n",
    "- End date: 2021-01-01\n",
    "- Audience: 15% of the new users from the EU region\n",
    "- Purpose of the test: testing changes related to the introduction of an improved recommendation system\n",
    "- Expected result: within 14 days of signing up, users will show better conversion into product page views (the `product_page` event), product card views (`product_card`) and purchases (`purchase`). At each of the stage of the funnel `product_page → product_card → purchase`, there will be at least a 10% increase.\n",
    "- Expected number of test participants: 6000\n",
    "\n",
    "Download the test data, see whether it was carried out correctly, and analyze the results."
   ]
  },
  {
   "cell_type": "markdown",
   "metadata": {},
   "source": [
    "### Instructions on completing the task\n",
    "\n",
    "- Describe the goals of the research\n",
    "- Explore the data\n",
    "    - Does it need converting types?\n",
    "    - Are there any missing or duplicate values? If so, what's their nature?\n",
    "- Carry out exploratory data analysis\n",
    "    - Study conversion at different funnel stages\n",
    "    - Is the number of events per user distributed equally in the samples?\n",
    "    - Are there users who enter both samples?\n",
    "    - How is the number of events distributed by days?\n",
    "    - Think of the possible details in the data that you have to take into account before starting the A/B test?\n",
    "- Evaluate the A/B test results\n",
    "    - What can you tell about the A/A test results?\n",
    "    - Use the z-criterion to check the statistical difference between the proportions\n",
    "- Describe the conclusions on the EDA stage, as well as on the evaluation of the A/B test results"
   ]
  },
  {
   "cell_type": "markdown",
   "metadata": {},
   "source": [
    "## Table of Contents <a class=\"anchor\" id=\"table_of_contents\"></a>\n",
    "\n",
    "### [Step 0. Describe the goals of the research](#chapter0)\n",
    "1. Define if the data is valid for A/B testing (check proportions)\n",
    "2. Define the datetime range for A/B testing.\n",
    "3. Check if there is any evidence that 15% of the new users from the EU region\n",
    "4. Testing changes related to the introduction of an improved recommendation system\n",
    "5. Check if within 14 days of signing up, users will show better conversion into product page views (the product_page event), product card views (product_card) and purchases (purchase)\n",
    "6. Check if at each of the stage of the funnel product_page → product_card → purchase, there will be at least a 10% increase.\n",
    "7. Check if expected number of test participants is 6000 or higher.\n",
    "\n",
    "### [Step 1. Downloading the data and preparing it for analysis](#chapter1)\n",
    "1. Data investigation\n",
    "    * Concluisons\n",
    "2. Data preparation\n",
    "- Make sure each column contains the correct data type. \n",
    "- Check missing values, duplicates, erroneous or faulty data, and choose a way for working with them (get rid of duplicates, fill in missing values or neglecting them, explain the decisions made during the data preparation process).\n",
    "    * Concluisons\n",
    "    \n",
    "### [Step 2. Carry out exploratory data analysis](#chapter2)\n",
    "1. Study conversion at different funnel stages\n",
    "2. Is the number of events per user distributed equally in the samples?\n",
    "3. Are there users who enter both samples?\n",
    "4. How is the number of events distributed by days?\n",
    "5. Think of the possible details in the data that you have to take into account before starting the A/B test?\n",
    "\n",
    "### [Step 3. Evaluate the A/B test results](#chapter3)\n",
    "1. What can you tell about the A/A test results?\n",
    "2. Use the z-criterion to check the statistical difference between the proportions\n",
    "\n",
    "### [Step 4. Final Conclusions and Recommendations](#chapter4)\n",
    "- Draw conclusions and formulate recommendations based on A/B testing results"
   ]
  },
  {
   "cell_type": "markdown",
   "metadata": {},
   "source": [
    "### [Step 1. Downloading the data and preparing it for analysis](#chapter1)"
   ]
  },
  {
   "cell_type": "markdown",
   "metadata": {},
   "source": [
    "[Go back to the Table of Contents](#table_of_contents)"
   ]
  },
  {
   "cell_type": "markdown",
   "metadata": {},
   "source": [
    "### 1. Data Investigation"
   ]
  },
  {
   "cell_type": "code",
   "execution_count": 1,
   "metadata": {},
   "outputs": [
    {
     "data": {
      "text/html": [
       "        <script type=\"text/javascript\">\n",
       "        window.PlotlyConfig = {MathJaxConfig: 'local'};\n",
       "        if (window.MathJax) {MathJax.Hub.Config({SVG: {font: \"STIX-Web\"}});}\n",
       "        if (typeof require !== 'undefined') {\n",
       "        require.undef(\"plotly\");\n",
       "        requirejs.config({\n",
       "            paths: {\n",
       "                'plotly': ['https://cdn.plot.ly/plotly-latest.min']\n",
       "            }\n",
       "        });\n",
       "        require(['plotly'], function(Plotly) {\n",
       "            window._Plotly = Plotly;\n",
       "        });\n",
       "        }\n",
       "        </script>\n",
       "        "
      ]
     },
     "metadata": {},
     "output_type": "display_data"
    },
    {
     "data": {
      "text/html": [
       "        <script type=\"text/javascript\">\n",
       "        window.PlotlyConfig = {MathJaxConfig: 'local'};\n",
       "        if (window.MathJax) {MathJax.Hub.Config({SVG: {font: \"STIX-Web\"}});}\n",
       "        if (typeof require !== 'undefined') {\n",
       "        require.undef(\"plotly\");\n",
       "        requirejs.config({\n",
       "            paths: {\n",
       "                'plotly': ['https://cdn.plot.ly/plotly-latest.min']\n",
       "            }\n",
       "        });\n",
       "        require(['plotly'], function(Plotly) {\n",
       "            window._Plotly = Plotly;\n",
       "        });\n",
       "        }\n",
       "        </script>\n",
       "        "
      ]
     },
     "metadata": {},
     "output_type": "display_data"
    }
   ],
   "source": [
    "# let's import pandas and other necessary libraries and the source datasets:\n",
    "import pandas as pd\n",
    "from matplotlib import ticker\n",
    "from matplotlib import pyplot as plt\n",
    "import seaborn as sns\n",
    "import numpy as np\n",
    "import statsmodels.api as sm\n",
    "import plotly.offline as py\n",
    "py.init_notebook_mode(connected=True)\n",
    "from plotly import graph_objects as go\n",
    "from pandas.plotting import register_matplotlib_converters\n",
    "register_matplotlib_converters()\n",
    "from plotly.subplots import make_subplots\n",
    "import plotly.offline as py\n",
    "py.init_notebook_mode(connected=True)"
   ]
  },
  {
   "cell_type": "code",
   "execution_count": 2,
   "metadata": {},
   "outputs": [],
   "source": [
    "# importing datasets\n",
    "new_users = pd.read_csv('/datasets/final_ab_new_users_us.csv')\n",
    "test_participants = pd.read_csv('/datasets/final_ab_participants_us.csv')\n",
    "ab_events = pd.read_csv('/datasets/final_ab_events_us.csv')\n",
    "marketing_events = pd.read_csv('/datasets/ab_project_marketing_events_us.csv')\n",
    "\n",
    "#new_users = pd.read_csv('/Users/noa/final_ab_new_users_us.csv')\n",
    "#test_participants = pd.read_csv('/Users/noa/final_ab_participants_us.csv')\n",
    "#ab_events = pd.read_csv('/Users/noa/final_ab_events_us.csv')\n",
    "#marketing_events = pd.read_csv('/Users/noa/ab_project_marketing_events_us.csv')"
   ]
  },
  {
   "cell_type": "code",
   "execution_count": 3,
   "metadata": {},
   "outputs": [
    {
     "name": "stdout",
     "output_type": "stream",
     "text": [
      "<class 'pandas.core.frame.DataFrame'>\n",
      "RangeIndex: 61733 entries, 0 to 61732\n",
      "Data columns (total 4 columns):\n",
      "user_id       61733 non-null object\n",
      "first_date    61733 non-null object\n",
      "region        61733 non-null object\n",
      "device        61733 non-null object\n",
      "dtypes: object(4)\n",
      "memory usage: 1.9+ MB\n",
      "None\n",
      "            user_id  first_date     region   device\n",
      "0  D72A72121175D8BE  2020-12-07         EU       PC\n",
      "1  F1C668619DFE6E65  2020-12-07  N.America  Android\n",
      "2  2E1BF1D4C37EA01F  2020-12-07         EU       PC\n",
      "3  50734A22C0C63768  2020-12-07         EU   iPhone\n",
      "4  E1BDDCE0DAFA2679  2020-12-07  N.America   iPhone\n",
      "                user_id  first_date region   device\n",
      "61728  1DB53B933257165D  2020-12-20     EU  Android\n",
      "61729  538643EB4527ED03  2020-12-20     EU      Mac\n",
      "61730  7ADEE837D5D8CBBD  2020-12-20     EU       PC\n",
      "61731  1C7D23927835213F  2020-12-20     EU   iPhone\n",
      "61732  8F04273BB2860229  2020-12-20     EU  Android\n",
      "                user_id  first_date region device\n",
      "61656  8CE3B6FD918462B4  2020-12-20     EU     PC\n",
      "                 user_id  first_date region   device\n",
      "count              61733       61733  61733    61733\n",
      "unique             61733          17      4        4\n",
      "top     F7647D564B4A8984  2020-12-21     EU  Android\n",
      "freq                   1        6290  46270    27520\n"
     ]
    }
   ],
   "source": [
    "# investigating the 'new_users' dataset:\n",
    "print(new_users.info())\n",
    "print(new_users.head())\n",
    "print(new_users.tail())\n",
    "print(new_users.sample())\n",
    "print(new_users.describe())"
   ]
  },
  {
   "cell_type": "code",
   "execution_count": 4,
   "metadata": {},
   "outputs": [
    {
     "data": {
      "text/plain": [
       "0"
      ]
     },
     "execution_count": 4,
     "metadata": {},
     "output_type": "execute_result"
    }
   ],
   "source": [
    "# checking if the dataset contains the duplicates\n",
    "new_users.duplicated().sum()"
   ]
  },
  {
   "cell_type": "code",
   "execution_count": 5,
   "metadata": {},
   "outputs": [
    {
     "data": {
      "text/plain": [
       "user_id       0\n",
       "first_date    0\n",
       "region        0\n",
       "device        0\n",
       "dtype: int64"
      ]
     },
     "execution_count": 5,
     "metadata": {},
     "output_type": "execute_result"
    }
   ],
   "source": [
    "# checking the missing values by columns:\n",
    "new_users.isnull().sum()"
   ]
  },
  {
   "cell_type": "code",
   "execution_count": 6,
   "metadata": {},
   "outputs": [
    {
     "name": "stdout",
     "output_type": "stream",
     "text": [
      "<class 'pandas.core.frame.DataFrame'>\n",
      "RangeIndex: 18268 entries, 0 to 18267\n",
      "Data columns (total 3 columns):\n",
      "user_id    18268 non-null object\n",
      "group      18268 non-null object\n",
      "ab_test    18268 non-null object\n",
      "dtypes: object(3)\n",
      "memory usage: 428.3+ KB\n",
      "None\n",
      "            user_id group                  ab_test\n",
      "0  D1ABA3E2887B6A73     A  recommender_system_test\n",
      "1  A7A3664BD6242119     A  recommender_system_test\n",
      "2  DABC14FDDFADD29E     A  recommender_system_test\n",
      "3  04988C5DF189632E     A  recommender_system_test\n",
      "4  482F14783456D21B     B  recommender_system_test\n",
      "                user_id group            ab_test\n",
      "18263  1D302F8688B91781     B  interface_eu_test\n",
      "18264  3DE51B726983B657     A  interface_eu_test\n",
      "18265  F501F79D332BE86C     A  interface_eu_test\n",
      "18266  63FBE257B05F2245     A  interface_eu_test\n",
      "18267  79F9ABFB029CF724     B  interface_eu_test\n",
      "               user_id group            ab_test\n",
      "8263  2A1AA89281B5D0CC     A  interface_eu_test\n",
      "                 user_id  group            ab_test\n",
      "count              18268  18268              18268\n",
      "unique             16666      2                  2\n",
      "top     7FE1F0DA8B99FE1C      A  interface_eu_test\n",
      "freq                   2   9655              11567\n"
     ]
    }
   ],
   "source": [
    "# investigating the 'test_participants' dataset:\n",
    "print(test_participants.info())\n",
    "print(test_participants.head())\n",
    "print(test_participants.tail())\n",
    "print(test_participants.sample())\n",
    "print(test_participants.describe())"
   ]
  },
  {
   "cell_type": "code",
   "execution_count": 7,
   "metadata": {},
   "outputs": [
    {
     "data": {
      "text/plain": [
       "0"
      ]
     },
     "execution_count": 7,
     "metadata": {},
     "output_type": "execute_result"
    }
   ],
   "source": [
    "# checking if the dataset contains the duplicates\n",
    "test_participants.duplicated().sum()"
   ]
  },
  {
   "cell_type": "code",
   "execution_count": 8,
   "metadata": {},
   "outputs": [
    {
     "data": {
      "text/plain": [
       "user_id    0\n",
       "group      0\n",
       "ab_test    0\n",
       "dtype: int64"
      ]
     },
     "execution_count": 8,
     "metadata": {},
     "output_type": "execute_result"
    }
   ],
   "source": [
    "# checking the missing values by columns:\n",
    "test_participants.isnull().sum()"
   ]
  },
  {
   "cell_type": "code",
   "execution_count": 9,
   "metadata": {},
   "outputs": [
    {
     "name": "stdout",
     "output_type": "stream",
     "text": [
      "<class 'pandas.core.frame.DataFrame'>\n",
      "RangeIndex: 440317 entries, 0 to 440316\n",
      "Data columns (total 4 columns):\n",
      "user_id       440317 non-null object\n",
      "event_dt      440317 non-null object\n",
      "event_name    440317 non-null object\n",
      "details       62740 non-null float64\n",
      "dtypes: float64(1), object(3)\n",
      "memory usage: 13.4+ MB\n",
      "None\n",
      "            user_id             event_dt event_name  details\n",
      "0  E1BDDCE0DAFA2679  2020-12-07 20:22:03   purchase    99.99\n",
      "1  7B6452F081F49504  2020-12-07 09:22:53   purchase     9.99\n",
      "2  9CD9F34546DF254C  2020-12-07 12:59:29   purchase     4.99\n",
      "3  96F27A054B191457  2020-12-07 04:02:40   purchase     4.99\n",
      "4  1FD7660FDF94CA1F  2020-12-07 10:15:09   purchase     4.99\n",
      "                 user_id             event_dt event_name  details\n",
      "440312  245E85F65C358E08  2020-12-30 19:35:55      login      NaN\n",
      "440313  9385A108F5A0A7A7  2020-12-30 10:54:15      login      NaN\n",
      "440314  DB650B7559AC6EAC  2020-12-30 10:59:09      login      NaN\n",
      "440315  F80C9BDDEA02E53C  2020-12-30 09:53:39      login      NaN\n",
      "440316  7AEC61159B672CC5  2020-12-30 11:36:13      login      NaN\n",
      "                 user_id             event_dt    event_name  details\n",
      "110101  21CC24472BC7E0D9  2020-12-23 04:18:29  product_cart      NaN\n",
      "            details\n",
      "count  62740.000000\n",
      "mean      23.877631\n",
      "std       72.180465\n",
      "min        4.990000\n",
      "25%        4.990000\n",
      "50%        4.990000\n",
      "75%        9.990000\n",
      "max      499.990000\n"
     ]
    }
   ],
   "source": [
    "# investigating the 'ab_events' dataset:\n",
    "print(ab_events.info())\n",
    "print(ab_events.head())\n",
    "print(ab_events.tail())\n",
    "print(ab_events.sample())\n",
    "print(ab_events.describe())"
   ]
  },
  {
   "cell_type": "code",
   "execution_count": 10,
   "metadata": {},
   "outputs": [
    {
     "data": {
      "text/plain": [
       "0"
      ]
     },
     "execution_count": 10,
     "metadata": {},
     "output_type": "execute_result"
    }
   ],
   "source": [
    "# checking if the dataset contains the duplicates\n",
    "ab_events.duplicated().sum()"
   ]
  },
  {
   "cell_type": "code",
   "execution_count": 11,
   "metadata": {},
   "outputs": [
    {
     "data": {
      "text/plain": [
       "user_id            0\n",
       "event_dt           0\n",
       "event_name         0\n",
       "details       377577\n",
       "dtype: int64"
      ]
     },
     "execution_count": 11,
     "metadata": {},
     "output_type": "execute_result"
    }
   ],
   "source": [
    "# checking the missing values by columns:\n",
    "ab_events.isnull().sum()"
   ]
  },
  {
   "cell_type": "code",
   "execution_count": 12,
   "metadata": {},
   "outputs": [
    {
     "data": {
      "text/plain": [
       "array([ 99.99,   9.99,   4.99, 499.99,    nan])"
      ]
     },
     "execution_count": 12,
     "metadata": {},
     "output_type": "execute_result"
    }
   ],
   "source": [
    "# checking unique values in 'details' column\n",
    "ab_events['details'].unique()"
   ]
  },
  {
   "cell_type": "code",
   "execution_count": 13,
   "metadata": {},
   "outputs": [
    {
     "name": "stdout",
     "output_type": "stream",
     "text": [
      "<class 'pandas.core.frame.DataFrame'>\n",
      "RangeIndex: 14 entries, 0 to 13\n",
      "Data columns (total 4 columns):\n",
      "name         14 non-null object\n",
      "regions      14 non-null object\n",
      "start_dt     14 non-null object\n",
      "finish_dt    14 non-null object\n",
      "dtypes: object(4)\n",
      "memory usage: 576.0+ bytes\n",
      "None\n",
      "                           name                   regions    start_dt  \\\n",
      "0      Christmas&New Year Promo             EU, N.America  2020-12-25   \n",
      "1  St. Valentine's Day Giveaway  EU, CIS, APAC, N.America  2020-02-14   \n",
      "2        St. Patric's Day Promo             EU, N.America  2020-03-17   \n",
      "3                  Easter Promo  EU, CIS, APAC, N.America  2020-04-12   \n",
      "4             4th of July Promo                 N.America  2020-07-04   \n",
      "\n",
      "    finish_dt  \n",
      "0  2021-01-03  \n",
      "1  2020-02-16  \n",
      "2  2020-03-19  \n",
      "3  2020-04-19  \n",
      "4  2020-07-11  \n",
      "                               name regions    start_dt   finish_dt\n",
      "9   Victory Day CIS (May 9th) Event     CIS  2020-05-09  2020-05-11\n",
      "10        CIS New Year Gift Lottery     CIS  2020-12-30  2021-01-07\n",
      "11    Dragon Boat Festival Giveaway    APAC  2020-06-25  2020-07-01\n",
      "12          Single's Day Gift Promo    APAC  2020-11-11  2020-11-12\n",
      "13            Chinese Moon Festival    APAC  2020-10-01  2020-10-07\n",
      "                       name regions    start_dt   finish_dt\n",
      "12  Single's Day Gift Promo    APAC  2020-11-11  2020-11-12\n",
      "                         name regions    start_dt   finish_dt\n",
      "count                      14      14          14          14\n",
      "unique                     14       6          14          14\n",
      "top     Chinese Moon Festival    APAC  2020-05-01  2021-01-03\n",
      "freq                        1       4           1           1\n"
     ]
    }
   ],
   "source": [
    "# investigating the 'marketing_events' dataset:\n",
    "print(marketing_events.info())\n",
    "print(marketing_events.head())\n",
    "print(marketing_events.tail())\n",
    "print(marketing_events.sample())\n",
    "print(marketing_events.describe())"
   ]
  },
  {
   "cell_type": "code",
   "execution_count": 14,
   "metadata": {},
   "outputs": [
    {
     "data": {
      "text/plain": [
       "0"
      ]
     },
     "execution_count": 14,
     "metadata": {},
     "output_type": "execute_result"
    }
   ],
   "source": [
    "# checking if the dataset contains the duplicates\n",
    "marketing_events.duplicated().sum()"
   ]
  },
  {
   "cell_type": "code",
   "execution_count": 15,
   "metadata": {},
   "outputs": [
    {
     "data": {
      "text/plain": [
       "name         0\n",
       "regions      0\n",
       "start_dt     0\n",
       "finish_dt    0\n",
       "dtype: int64"
      ]
     },
     "execution_count": 15,
     "metadata": {},
     "output_type": "execute_result"
    }
   ],
   "source": [
    "# checking the missing values by columns:\n",
    "marketing_events.isnull().sum()"
   ]
  },
  {
   "cell_type": "markdown",
   "metadata": {},
   "source": [
    "#### Conclusions\n",
    "1. \n",
    " - The 'new_users' dataset consists of 61733 rows, 4 columns.\n",
    " - Column names we'd leave as they are, as they are self-desciptive and easy to read.\n",
    " - Data types: object(4). I'd change the data type in 'first_date' column to datetime, in 'region' column to category, in 'device' column also to category.\n",
    " - No duplicates found.\n",
    " - No missing values found.\n",
    "2. \n",
    " - The 'test_participants' dataset consists of 18268 rows, 3 columns.\n",
    " - Column names we'd leave as they are, as they are self-desciptive and easy to read.\n",
    " - Data types: object(3). I'd change the data type in 'group' column to category, in 'ab_test' column also to category.\n",
    " - No duplicates found.\n",
    " - No missing values found.\n",
    " - There are two types of tests in this dataset. The only relevant for us according to the task is 'interface_eu_test'. We should drop 'recommender_system_test' and users that participated in both of them.\n",
    "3. \n",
    " - The 'ab_events' dataset consists of 440317 rows, 4 columns.\n",
    " - Column names we'd leave as they are, as they are self-desciptive and easy to read, except of 'deatails': I'd change it to 'order_total' according to the fact that it contains the order total in USD for purchase events.\n",
    " - Data types: float64(1), object(3). I'd change the data type in 'event_dt' column to datetime, in 'event_name' column to category.\n",
    " - No duplicates found.\n",
    "4. \n",
    " - The 'marketing_events' dataset consists of 14 rows, 4 columns.\n",
    " - Column names we'd leave as they are, as they are self-desciptive and easy to read.\n",
    " - Data types: object(4). I'd change the data type in 'start_dt' and 'finish_dt' columns to datetime.\n",
    " - No duplicates found.\n",
    " - No missing values found."
   ]
  },
  {
   "cell_type": "markdown",
   "metadata": {},
   "source": [
    "### 2. Data Preparation"
   ]
  },
  {
   "cell_type": "code",
   "execution_count": 16,
   "metadata": {},
   "outputs": [],
   "source": [
    "# changing the data type to 'datetime' where necessary\n",
    "new_users['first_date'] = pd.to_datetime(new_users['first_date'])\n",
    "ab_events['event_dt'] = pd.to_datetime(ab_events['event_dt'])"
   ]
  },
  {
   "cell_type": "code",
   "execution_count": 17,
   "metadata": {},
   "outputs": [
    {
     "data": {
      "text/plain": [
       "0         purchase\n",
       "1         purchase\n",
       "2         purchase\n",
       "3         purchase\n",
       "4         purchase\n",
       "            ...   \n",
       "440312       login\n",
       "440313       login\n",
       "440314       login\n",
       "440315       login\n",
       "440316       login\n",
       "Name: event_name, Length: 440317, dtype: category\n",
       "Categories (4, object): [login, product_cart, product_page, purchase]"
      ]
     },
     "execution_count": 17,
     "metadata": {},
     "output_type": "execute_result"
    }
   ],
   "source": [
    "# changing the data type to 'category' where necessary\n",
    "new_users['region'].astype('category')\n",
    "new_users['device'].astype('category')\n",
    "test_participants['group'].astype('category')\n",
    "test_participants['ab_test'].astype('category')\n",
    "ab_events['event_name'].astype('category')"
   ]
  },
  {
   "cell_type": "code",
   "execution_count": 18,
   "metadata": {},
   "outputs": [
    {
     "data": {
      "text/plain": [
       "EU           74.951809\n",
       "N.America    14.829994\n",
       "CIS           5.110719\n",
       "APAC          5.107479\n",
       "Name: region, dtype: float64"
      ]
     },
     "execution_count": 18,
     "metadata": {},
     "output_type": "execute_result"
    }
   ],
   "source": [
    "# checking the region for new users\n",
    "new_users['region'].value_counts(normalize=True)*100"
   ]
  },
  {
   "cell_type": "markdown",
   "metadata": {},
   "source": [
    "#### Proved that more than 15 percent of new users are from EU region"
   ]
  },
  {
   "cell_type": "code",
   "execution_count": 19,
   "metadata": {},
   "outputs": [],
   "source": [
    "# changing 'details' column name to 'order_total'\n",
    "ab_events = ab_events.rename(columns={\"details\": \"order_total\"})"
   ]
  },
  {
   "cell_type": "code",
   "execution_count": 20,
   "metadata": {},
   "outputs": [
    {
     "data": {
      "text/plain": [
       "interface_eu_test          11567\n",
       "recommender_system_test     6701\n",
       "Name: ab_test, dtype: int64"
      ]
     },
     "execution_count": 20,
     "metadata": {},
     "output_type": "execute_result"
    }
   ],
   "source": [
    "# checking the number of users who participated in each test\n",
    "test_participants['ab_test'].value_counts()"
   ]
  },
  {
   "cell_type": "code",
   "execution_count": 21,
   "metadata": {},
   "outputs": [
    {
     "data": {
      "text/plain": [
       "interface_eu_test          9965\n",
       "recommender_system_test    5099\n",
       "Name: ab_test, dtype: int64"
      ]
     },
     "execution_count": 21,
     "metadata": {},
     "output_type": "execute_result"
    }
   ],
   "source": [
    "# checking if there are users belonging to more than one test\n",
    "users_test = test_participants.groupby('user_id').agg({'ab_test':'nunique'})\n",
    "# grouping the users belonging to one and only test together\n",
    "users_one_test = users_test.query('ab_test <= 1')\n",
    "test_participants = test_participants[test_participants['user_id'].isin(users_one_test.index)]\n",
    "# checking the number of users who participated in each test after dropping the users who participated in both\n",
    "test_participants['ab_test'].value_counts()"
   ]
  },
  {
   "cell_type": "code",
   "execution_count": 22,
   "metadata": {},
   "outputs": [
    {
     "data": {
      "text/plain": [
       "interface_eu_test    9965\n",
       "Name: ab_test, dtype: int64"
      ]
     },
     "execution_count": 22,
     "metadata": {},
     "output_type": "execute_result"
    }
   ],
   "source": [
    "# dropping 'recommender_system_test' column as it's not the test required by task description\n",
    "test_participants = test_participants[test_participants.ab_test == 'interface_eu_test']\n",
    "test_participants['ab_test'].value_counts()"
   ]
  },
  {
   "cell_type": "code",
   "execution_count": 23,
   "metadata": {},
   "outputs": [
    {
     "name": "stdout",
     "output_type": "stream",
     "text": [
      "                  group\n",
      "user_id                \n",
      "0002CE61FF2C4011      1\n",
      "001E72F50D1C48FA      1\n",
      "002412F1EB3F6E38      1\n",
      "002540BE89C930FB      1\n",
      "0031F1B5E9FBF708      1\n",
      "003346BB64227D0C      1\n",
      "0036BE15EE4D319D      1\n",
      "003F86A34B575D27      1\n",
      "004C58ADE7CA8C4A      1\n",
      "0050F43F34C955F4      1\n"
     ]
    },
    {
     "data": {
      "text/plain": [
       "A    5012\n",
       "B    4953\n",
       "Name: group, dtype: int64"
      ]
     },
     "execution_count": 23,
     "metadata": {},
     "output_type": "execute_result"
    }
   ],
   "source": [
    "# checking if there are users belonging to more than one group\n",
    "users_group = test_participants.groupby('user_id').agg({'group':'nunique'})\n",
    "print(users_group.head(10))\n",
    "# grouping the users belonging to one and only group together\n",
    "users_one_group = users_group.query('group <= 1')\n",
    "test_participants = test_participants[test_participants['user_id'].isin(users_one_group.index)]\n",
    "#checking the number of users in each group\n",
    "test_participants['group'].value_counts()"
   ]
  },
  {
   "cell_type": "markdown",
   "metadata": {},
   "source": [
    "#### Expected number of test participants (6000) has been reached."
   ]
  },
  {
   "cell_type": "code",
   "execution_count": 24,
   "metadata": {},
   "outputs": [
    {
     "data": {
      "text/html": [
       "<div>\n",
       "<style scoped>\n",
       "    .dataframe tbody tr th:only-of-type {\n",
       "        vertical-align: middle;\n",
       "    }\n",
       "\n",
       "    .dataframe tbody tr th {\n",
       "        vertical-align: top;\n",
       "    }\n",
       "\n",
       "    .dataframe thead th {\n",
       "        text-align: right;\n",
       "    }\n",
       "</style>\n",
       "<table border=\"1\" class=\"dataframe\">\n",
       "  <thead>\n",
       "    <tr style=\"text-align: right;\">\n",
       "      <th></th>\n",
       "      <th>user_id</th>\n",
       "      <th>group</th>\n",
       "      <th>ab_test</th>\n",
       "      <th>first_date</th>\n",
       "      <th>region</th>\n",
       "      <th>device</th>\n",
       "    </tr>\n",
       "  </thead>\n",
       "  <tbody>\n",
       "    <tr>\n",
       "      <td>0</td>\n",
       "      <td>D4E530F6595A05A3</td>\n",
       "      <td>A</td>\n",
       "      <td>interface_eu_test</td>\n",
       "      <td>2020-12-22</td>\n",
       "      <td>EU</td>\n",
       "      <td>Android</td>\n",
       "    </tr>\n",
       "    <tr>\n",
       "      <td>1</td>\n",
       "      <td>6BCB0F33D3BAB8C2</td>\n",
       "      <td>A</td>\n",
       "      <td>interface_eu_test</td>\n",
       "      <td>2020-12-21</td>\n",
       "      <td>EU</td>\n",
       "      <td>PC</td>\n",
       "    </tr>\n",
       "    <tr>\n",
       "      <td>2</td>\n",
       "      <td>2D2E7AA539CF348F</td>\n",
       "      <td>B</td>\n",
       "      <td>interface_eu_test</td>\n",
       "      <td>2020-12-22</td>\n",
       "      <td>EU</td>\n",
       "      <td>Android</td>\n",
       "    </tr>\n",
       "    <tr>\n",
       "      <td>3</td>\n",
       "      <td>4BA448BCE1343C6F</td>\n",
       "      <td>A</td>\n",
       "      <td>interface_eu_test</td>\n",
       "      <td>2020-12-13</td>\n",
       "      <td>EU</td>\n",
       "      <td>Android</td>\n",
       "    </tr>\n",
       "    <tr>\n",
       "      <td>4</td>\n",
       "      <td>76B6CDF2A8B1DBFC</td>\n",
       "      <td>B</td>\n",
       "      <td>interface_eu_test</td>\n",
       "      <td>2020-12-11</td>\n",
       "      <td>EU</td>\n",
       "      <td>Android</td>\n",
       "    </tr>\n",
       "  </tbody>\n",
       "</table>\n",
       "</div>"
      ],
      "text/plain": [
       "            user_id group            ab_test first_date region   device\n",
       "0  D4E530F6595A05A3     A  interface_eu_test 2020-12-22     EU  Android\n",
       "1  6BCB0F33D3BAB8C2     A  interface_eu_test 2020-12-21     EU       PC\n",
       "2  2D2E7AA539CF348F     B  interface_eu_test 2020-12-22     EU  Android\n",
       "3  4BA448BCE1343C6F     A  interface_eu_test 2020-12-13     EU  Android\n",
       "4  76B6CDF2A8B1DBFC     B  interface_eu_test 2020-12-11     EU  Android"
      ]
     },
     "execution_count": 24,
     "metadata": {},
     "output_type": "execute_result"
    }
   ],
   "source": [
    "# merging the unique EU test participants with 'new users' table on 'user_id' column\n",
    "new_test = pd.merge(test_participants, new_users, on='user_id', how='left')\n",
    "new_test.head()"
   ]
  },
  {
   "cell_type": "code",
   "execution_count": 25,
   "metadata": {},
   "outputs": [
    {
     "data": {
      "text/plain": [
       "EU    1.0\n",
       "Name: region, dtype: float64"
      ]
     },
     "execution_count": 25,
     "metadata": {},
     "output_type": "execute_result"
    }
   ],
   "source": [
    "# checking the region for 'interface_eu_test' test dataset (by task and nature it is expected to be EU)\n",
    "new_test['region'].value_counts(normalize=True)"
   ]
  },
  {
   "cell_type": "code",
   "execution_count": 26,
   "metadata": {
    "scrolled": true
   },
   "outputs": [
    {
     "data": {
      "text/html": [
       "<div>\n",
       "<style scoped>\n",
       "    .dataframe tbody tr th:only-of-type {\n",
       "        vertical-align: middle;\n",
       "    }\n",
       "\n",
       "    .dataframe tbody tr th {\n",
       "        vertical-align: top;\n",
       "    }\n",
       "\n",
       "    .dataframe thead th {\n",
       "        text-align: right;\n",
       "    }\n",
       "</style>\n",
       "<table border=\"1\" class=\"dataframe\">\n",
       "  <thead>\n",
       "    <tr style=\"text-align: right;\">\n",
       "      <th></th>\n",
       "      <th>user_id</th>\n",
       "      <th>group</th>\n",
       "      <th>ab_test</th>\n",
       "      <th>first_date</th>\n",
       "      <th>region</th>\n",
       "      <th>device</th>\n",
       "    </tr>\n",
       "  </thead>\n",
       "  <tbody>\n",
       "    <tr>\n",
       "      <td>0</td>\n",
       "      <td>D4E530F6595A05A3</td>\n",
       "      <td>A</td>\n",
       "      <td>interface_eu_test</td>\n",
       "      <td>2020-12-22</td>\n",
       "      <td>EU</td>\n",
       "      <td>Android</td>\n",
       "    </tr>\n",
       "    <tr>\n",
       "      <td>1</td>\n",
       "      <td>6BCB0F33D3BAB8C2</td>\n",
       "      <td>A</td>\n",
       "      <td>interface_eu_test</td>\n",
       "      <td>2020-12-21</td>\n",
       "      <td>EU</td>\n",
       "      <td>PC</td>\n",
       "    </tr>\n",
       "    <tr>\n",
       "      <td>2</td>\n",
       "      <td>2D2E7AA539CF348F</td>\n",
       "      <td>B</td>\n",
       "      <td>interface_eu_test</td>\n",
       "      <td>2020-12-22</td>\n",
       "      <td>EU</td>\n",
       "      <td>Android</td>\n",
       "    </tr>\n",
       "    <tr>\n",
       "      <td>3</td>\n",
       "      <td>4BA448BCE1343C6F</td>\n",
       "      <td>A</td>\n",
       "      <td>interface_eu_test</td>\n",
       "      <td>2020-12-13</td>\n",
       "      <td>EU</td>\n",
       "      <td>Android</td>\n",
       "    </tr>\n",
       "    <tr>\n",
       "      <td>4</td>\n",
       "      <td>76B6CDF2A8B1DBFC</td>\n",
       "      <td>B</td>\n",
       "      <td>interface_eu_test</td>\n",
       "      <td>2020-12-11</td>\n",
       "      <td>EU</td>\n",
       "      <td>Android</td>\n",
       "    </tr>\n",
       "    <tr>\n",
       "      <td>5</td>\n",
       "      <td>57DB73616258396A</td>\n",
       "      <td>A</td>\n",
       "      <td>interface_eu_test</td>\n",
       "      <td>2020-12-12</td>\n",
       "      <td>EU</td>\n",
       "      <td>iPhone</td>\n",
       "    </tr>\n",
       "    <tr>\n",
       "      <td>6</td>\n",
       "      <td>17B16DFA7D7B5801</td>\n",
       "      <td>A</td>\n",
       "      <td>interface_eu_test</td>\n",
       "      <td>2020-12-08</td>\n",
       "      <td>EU</td>\n",
       "      <td>Android</td>\n",
       "    </tr>\n",
       "    <tr>\n",
       "      <td>7</td>\n",
       "      <td>10DAD07E71B44F26</td>\n",
       "      <td>B</td>\n",
       "      <td>interface_eu_test</td>\n",
       "      <td>2020-12-20</td>\n",
       "      <td>EU</td>\n",
       "      <td>PC</td>\n",
       "    </tr>\n",
       "    <tr>\n",
       "      <td>8</td>\n",
       "      <td>B6B852020F0AF08E</td>\n",
       "      <td>B</td>\n",
       "      <td>interface_eu_test</td>\n",
       "      <td>2020-12-10</td>\n",
       "      <td>EU</td>\n",
       "      <td>iPhone</td>\n",
       "    </tr>\n",
       "    <tr>\n",
       "      <td>9</td>\n",
       "      <td>05C23D75106B2B5C</td>\n",
       "      <td>B</td>\n",
       "      <td>interface_eu_test</td>\n",
       "      <td>2020-12-09</td>\n",
       "      <td>EU</td>\n",
       "      <td>Mac</td>\n",
       "    </tr>\n",
       "  </tbody>\n",
       "</table>\n",
       "</div>"
      ],
      "text/plain": [
       "            user_id group            ab_test first_date region   device\n",
       "0  D4E530F6595A05A3     A  interface_eu_test 2020-12-22     EU  Android\n",
       "1  6BCB0F33D3BAB8C2     A  interface_eu_test 2020-12-21     EU       PC\n",
       "2  2D2E7AA539CF348F     B  interface_eu_test 2020-12-22     EU  Android\n",
       "3  4BA448BCE1343C6F     A  interface_eu_test 2020-12-13     EU  Android\n",
       "4  76B6CDF2A8B1DBFC     B  interface_eu_test 2020-12-11     EU  Android\n",
       "5  57DB73616258396A     A  interface_eu_test 2020-12-12     EU   iPhone\n",
       "6  17B16DFA7D7B5801     A  interface_eu_test 2020-12-08     EU  Android\n",
       "7  10DAD07E71B44F26     B  interface_eu_test 2020-12-20     EU       PC\n",
       "8  B6B852020F0AF08E     B  interface_eu_test 2020-12-10     EU   iPhone\n",
       "9  05C23D75106B2B5C     B  interface_eu_test 2020-12-09     EU      Mac"
      ]
     },
     "execution_count": 26,
     "metadata": {},
     "output_type": "execute_result"
    }
   ],
   "source": [
    "new_test.head(10)"
   ]
  },
  {
   "cell_type": "code",
   "execution_count": 27,
   "metadata": {},
   "outputs": [],
   "source": [
    "# merging 'new test' dataset with 'ab_events' on user_id column\n",
    "final = pd.merge(new_test, ab_events, on='user_id',how='left')"
   ]
  },
  {
   "cell_type": "code",
   "execution_count": 28,
   "metadata": {},
   "outputs": [
    {
     "data": {
      "text/html": [
       "<div>\n",
       "<style scoped>\n",
       "    .dataframe tbody tr th:only-of-type {\n",
       "        vertical-align: middle;\n",
       "    }\n",
       "\n",
       "    .dataframe tbody tr th {\n",
       "        vertical-align: top;\n",
       "    }\n",
       "\n",
       "    .dataframe thead th {\n",
       "        text-align: right;\n",
       "    }\n",
       "</style>\n",
       "<table border=\"1\" class=\"dataframe\">\n",
       "  <thead>\n",
       "    <tr style=\"text-align: right;\">\n",
       "      <th></th>\n",
       "      <th>user_id</th>\n",
       "      <th>group</th>\n",
       "      <th>ab_test</th>\n",
       "      <th>first_date</th>\n",
       "      <th>region</th>\n",
       "      <th>device</th>\n",
       "      <th>event_dt</th>\n",
       "      <th>event_name</th>\n",
       "      <th>order_total</th>\n",
       "    </tr>\n",
       "  </thead>\n",
       "  <tbody>\n",
       "    <tr>\n",
       "      <td>0</td>\n",
       "      <td>D4E530F6595A05A3</td>\n",
       "      <td>A</td>\n",
       "      <td>interface_eu_test</td>\n",
       "      <td>2020-12-22</td>\n",
       "      <td>EU</td>\n",
       "      <td>Android</td>\n",
       "      <td>2020-12-22 06:01:01</td>\n",
       "      <td>product_cart</td>\n",
       "      <td>NaN</td>\n",
       "    </tr>\n",
       "    <tr>\n",
       "      <td>1</td>\n",
       "      <td>D4E530F6595A05A3</td>\n",
       "      <td>A</td>\n",
       "      <td>interface_eu_test</td>\n",
       "      <td>2020-12-22</td>\n",
       "      <td>EU</td>\n",
       "      <td>Android</td>\n",
       "      <td>2020-12-25 18:39:01</td>\n",
       "      <td>product_cart</td>\n",
       "      <td>NaN</td>\n",
       "    </tr>\n",
       "    <tr>\n",
       "      <td>2</td>\n",
       "      <td>D4E530F6595A05A3</td>\n",
       "      <td>A</td>\n",
       "      <td>interface_eu_test</td>\n",
       "      <td>2020-12-22</td>\n",
       "      <td>EU</td>\n",
       "      <td>Android</td>\n",
       "      <td>2020-12-26 09:31:53</td>\n",
       "      <td>product_cart</td>\n",
       "      <td>NaN</td>\n",
       "    </tr>\n",
       "    <tr>\n",
       "      <td>3</td>\n",
       "      <td>D4E530F6595A05A3</td>\n",
       "      <td>A</td>\n",
       "      <td>interface_eu_test</td>\n",
       "      <td>2020-12-22</td>\n",
       "      <td>EU</td>\n",
       "      <td>Android</td>\n",
       "      <td>2020-12-29 23:35:45</td>\n",
       "      <td>product_cart</td>\n",
       "      <td>NaN</td>\n",
       "    </tr>\n",
       "    <tr>\n",
       "      <td>4</td>\n",
       "      <td>D4E530F6595A05A3</td>\n",
       "      <td>A</td>\n",
       "      <td>interface_eu_test</td>\n",
       "      <td>2020-12-22</td>\n",
       "      <td>EU</td>\n",
       "      <td>Android</td>\n",
       "      <td>2020-12-22 06:00:57</td>\n",
       "      <td>login</td>\n",
       "      <td>NaN</td>\n",
       "    </tr>\n",
       "    <tr>\n",
       "      <td>5</td>\n",
       "      <td>D4E530F6595A05A3</td>\n",
       "      <td>A</td>\n",
       "      <td>interface_eu_test</td>\n",
       "      <td>2020-12-22</td>\n",
       "      <td>EU</td>\n",
       "      <td>Android</td>\n",
       "      <td>2020-12-25 18:39:01</td>\n",
       "      <td>login</td>\n",
       "      <td>NaN</td>\n",
       "    </tr>\n",
       "    <tr>\n",
       "      <td>6</td>\n",
       "      <td>D4E530F6595A05A3</td>\n",
       "      <td>A</td>\n",
       "      <td>interface_eu_test</td>\n",
       "      <td>2020-12-22</td>\n",
       "      <td>EU</td>\n",
       "      <td>Android</td>\n",
       "      <td>2020-12-26 09:31:53</td>\n",
       "      <td>login</td>\n",
       "      <td>NaN</td>\n",
       "    </tr>\n",
       "    <tr>\n",
       "      <td>7</td>\n",
       "      <td>D4E530F6595A05A3</td>\n",
       "      <td>A</td>\n",
       "      <td>interface_eu_test</td>\n",
       "      <td>2020-12-22</td>\n",
       "      <td>EU</td>\n",
       "      <td>Android</td>\n",
       "      <td>2020-12-29 23:35:43</td>\n",
       "      <td>login</td>\n",
       "      <td>NaN</td>\n",
       "    </tr>\n",
       "    <tr>\n",
       "      <td>8</td>\n",
       "      <td>6BCB0F33D3BAB8C2</td>\n",
       "      <td>A</td>\n",
       "      <td>interface_eu_test</td>\n",
       "      <td>2020-12-21</td>\n",
       "      <td>EU</td>\n",
       "      <td>PC</td>\n",
       "      <td>2020-12-21 21:07:21</td>\n",
       "      <td>product_page</td>\n",
       "      <td>NaN</td>\n",
       "    </tr>\n",
       "    <tr>\n",
       "      <td>9</td>\n",
       "      <td>6BCB0F33D3BAB8C2</td>\n",
       "      <td>A</td>\n",
       "      <td>interface_eu_test</td>\n",
       "      <td>2020-12-21</td>\n",
       "      <td>EU</td>\n",
       "      <td>PC</td>\n",
       "      <td>2020-12-28 00:32:15</td>\n",
       "      <td>product_page</td>\n",
       "      <td>NaN</td>\n",
       "    </tr>\n",
       "  </tbody>\n",
       "</table>\n",
       "</div>"
      ],
      "text/plain": [
       "            user_id group            ab_test first_date region   device  \\\n",
       "0  D4E530F6595A05A3     A  interface_eu_test 2020-12-22     EU  Android   \n",
       "1  D4E530F6595A05A3     A  interface_eu_test 2020-12-22     EU  Android   \n",
       "2  D4E530F6595A05A3     A  interface_eu_test 2020-12-22     EU  Android   \n",
       "3  D4E530F6595A05A3     A  interface_eu_test 2020-12-22     EU  Android   \n",
       "4  D4E530F6595A05A3     A  interface_eu_test 2020-12-22     EU  Android   \n",
       "5  D4E530F6595A05A3     A  interface_eu_test 2020-12-22     EU  Android   \n",
       "6  D4E530F6595A05A3     A  interface_eu_test 2020-12-22     EU  Android   \n",
       "7  D4E530F6595A05A3     A  interface_eu_test 2020-12-22     EU  Android   \n",
       "8  6BCB0F33D3BAB8C2     A  interface_eu_test 2020-12-21     EU       PC   \n",
       "9  6BCB0F33D3BAB8C2     A  interface_eu_test 2020-12-21     EU       PC   \n",
       "\n",
       "             event_dt    event_name  order_total  \n",
       "0 2020-12-22 06:01:01  product_cart          NaN  \n",
       "1 2020-12-25 18:39:01  product_cart          NaN  \n",
       "2 2020-12-26 09:31:53  product_cart          NaN  \n",
       "3 2020-12-29 23:35:45  product_cart          NaN  \n",
       "4 2020-12-22 06:00:57         login          NaN  \n",
       "5 2020-12-25 18:39:01         login          NaN  \n",
       "6 2020-12-26 09:31:53         login          NaN  \n",
       "7 2020-12-29 23:35:43         login          NaN  \n",
       "8 2020-12-21 21:07:21  product_page          NaN  \n",
       "9 2020-12-28 00:32:15  product_page          NaN  "
      ]
     },
     "execution_count": 28,
     "metadata": {},
     "output_type": "execute_result"
    }
   ],
   "source": [
    "final.head(10)"
   ]
  },
  {
   "cell_type": "code",
   "execution_count": 29,
   "metadata": {},
   "outputs": [
    {
     "data": {
      "text/plain": [
       "A    0.50678\n",
       "B    0.49322\n",
       "Name: group, dtype: float64"
      ]
     },
     "execution_count": 29,
     "metadata": {},
     "output_type": "execute_result"
    }
   ],
   "source": [
    "# checking the group representation \n",
    "final['group'].value_counts(normalize=True)"
   ]
  },
  {
   "cell_type": "code",
   "execution_count": 30,
   "metadata": {},
   "outputs": [
    {
     "data": {
      "text/plain": [
       "interface_eu_test    1.0\n",
       "Name: ab_test, dtype: float64"
      ]
     },
     "execution_count": 30,
     "metadata": {},
     "output_type": "execute_result"
    }
   ],
   "source": [
    "# checking the kind of test in the final dataset (expected to be 'interface_eu_test')\n",
    "final['ab_test'].value_counts(normalize=True)"
   ]
  },
  {
   "cell_type": "markdown",
   "metadata": {},
   "source": [
    "#### Conclusions\n",
    "1. \n",
    " - In the 'new_users' dataset changed the data type in 'first_date' column to datetime, in 'region' column to category, in 'device' column also to category.\n",
    " - In the 'test_participants' dataset changed the data type in 'group' column to category, in 'ab_test' column also to category.\n",
    " - Dropped 'recommender_system_test' column and users who participated in two tests at the same time.\n",
    " - In the 'ab_events' dataset column name 'details' changed to 'order_total'.\n",
    " - Changed the data type in 'event_dt' column to datetime, in 'event_name' column to category.\n",
    " - In the 'marketing_events' dataset the data type in 'start_dt' and 'finish_dt' columns will be changed to datetime further in the merged dataset.\n",
    "2. \n",
    " - Checked if there are users belonging to more than one test and dropped the diplicates.\n",
    " - Checked if there are users belonging to more than one test group and dropped the diplicates.\n",
    " - Expected number of test participants (6000) has been reached.\n",
    " - Checked the number of users from EU region (expected at least 15%, got around 75%)."
   ]
  },
  {
   "cell_type": "markdown",
   "metadata": {},
   "source": [
    "### [Step 2. Carry out exploratory data analysis](#chapter2)"
   ]
  },
  {
   "cell_type": "markdown",
   "metadata": {},
   "source": [
    "[Go back to the Table of Contents](#table_of_contents)"
   ]
  },
  {
   "cell_type": "markdown",
   "metadata": {},
   "source": [
    "#### 1. Is the number of events per user distributed equally in the samples?"
   ]
  },
  {
   "cell_type": "code",
   "execution_count": 31,
   "metadata": {},
   "outputs": [
    {
     "data": {
      "text/plain": [
       "login           42.686728\n",
       "product_page    28.228532\n",
       "purchase        14.779109\n",
       "product_cart    14.305630\n",
       "Name: event_name, dtype: float64"
      ]
     },
     "execution_count": 31,
     "metadata": {},
     "output_type": "execute_result"
    }
   ],
   "source": [
    "#studying the share of events\n",
    "final['event_name'].value_counts(normalize=True)*100"
   ]
  },
  {
   "cell_type": "code",
   "execution_count": 32,
   "metadata": {},
   "outputs": [],
   "source": [
    "events_per_group = (final\n",
    "             .groupby(['event_name', 'group'])\n",
    "             .agg({ \"user_id\": \"nunique\"})\n",
    "             .sort_values('user_id', ascending=False))"
   ]
  },
  {
   "cell_type": "code",
   "execution_count": 33,
   "metadata": {},
   "outputs": [
    {
     "data": {
      "text/html": [
       "<div>\n",
       "<style scoped>\n",
       "    .dataframe tbody tr th:only-of-type {\n",
       "        vertical-align: middle;\n",
       "    }\n",
       "\n",
       "    .dataframe tbody tr th {\n",
       "        vertical-align: top;\n",
       "    }\n",
       "\n",
       "    .dataframe thead th {\n",
       "        text-align: right;\n",
       "    }\n",
       "</style>\n",
       "<table border=\"1\" class=\"dataframe\">\n",
       "  <thead>\n",
       "    <tr style=\"text-align: right;\">\n",
       "      <th></th>\n",
       "      <th></th>\n",
       "      <th>user_id</th>\n",
       "    </tr>\n",
       "    <tr>\n",
       "      <th>event_name</th>\n",
       "      <th>group</th>\n",
       "      <th></th>\n",
       "    </tr>\n",
       "  </thead>\n",
       "  <tbody>\n",
       "    <tr>\n",
       "      <td rowspan=\"2\" valign=\"top\">login</td>\n",
       "      <td>A</td>\n",
       "      <td>5010</td>\n",
       "    </tr>\n",
       "    <tr>\n",
       "      <td>B</td>\n",
       "      <td>4952</td>\n",
       "    </tr>\n",
       "    <tr>\n",
       "      <td rowspan=\"2\" valign=\"top\">product_page</td>\n",
       "      <td>A</td>\n",
       "      <td>3366</td>\n",
       "    </tr>\n",
       "    <tr>\n",
       "      <td>B</td>\n",
       "      <td>3254</td>\n",
       "    </tr>\n",
       "    <tr>\n",
       "      <td>purchase</td>\n",
       "      <td>A</td>\n",
       "      <td>1782</td>\n",
       "    </tr>\n",
       "    <tr>\n",
       "      <td>product_cart</td>\n",
       "      <td>B</td>\n",
       "      <td>1686</td>\n",
       "    </tr>\n",
       "    <tr>\n",
       "      <td>purchase</td>\n",
       "      <td>B</td>\n",
       "      <td>1653</td>\n",
       "    </tr>\n",
       "    <tr>\n",
       "      <td>product_cart</td>\n",
       "      <td>A</td>\n",
       "      <td>1629</td>\n",
       "    </tr>\n",
       "  </tbody>\n",
       "</table>\n",
       "</div>"
      ],
      "text/plain": [
       "                    user_id\n",
       "event_name   group         \n",
       "login        A         5010\n",
       "             B         4952\n",
       "product_page A         3366\n",
       "             B         3254\n",
       "purchase     A         1782\n",
       "product_cart B         1686\n",
       "purchase     B         1653\n",
       "product_cart A         1629"
      ]
     },
     "execution_count": 33,
     "metadata": {},
     "output_type": "execute_result"
    }
   ],
   "source": [
    "events_per_group"
   ]
  },
  {
   "cell_type": "markdown",
   "metadata": {},
   "source": [
    "The number of events is distributed almost equally in the samples."
   ]
  },
  {
   "cell_type": "markdown",
   "metadata": {},
   "source": [
    "#### 2. How is the number of events distributed among days?"
   ]
  },
  {
   "cell_type": "code",
   "execution_count": 34,
   "metadata": {},
   "outputs": [
    {
     "data": {
      "text/plain": [
       "Text(0, 0.5, 'Users Count')"
      ]
     },
     "execution_count": 34,
     "metadata": {},
     "output_type": "execute_result"
    },
    {
     "data": {
      "image/png": "[encoded data removed]",
      "text/plain": [
       "<Figure size 1080x576 with 1 Axes>"
      ]
     },
     "metadata": {
      "needs_background": "light"
     },
     "output_type": "display_data"
    }
   ],
   "source": [
    "# plotting a distribution histogram of new users per user using the hist() method\n",
    "ax = final['first_date'].hist(grid=False, bins=100, figsize=(15,8), color='lightgreen', zorder=2, rwidth=0.9);\n",
    "# defining axes and title\n",
    "plt.suptitle(\"New Users\", weight='bold', size=15)\n",
    "plt.xlabel('Date', weight='bold', size=12)\n",
    "plt.ylabel('Users Count', weight='bold', size=12)"
   ]
  },
  {
   "cell_type": "markdown",
   "metadata": {},
   "source": [
    "The number of users is higher on Mondays (7th, 14th, 21st of December, 2020)."
   ]
  },
  {
   "cell_type": "code",
   "execution_count": 35,
   "metadata": {},
   "outputs": [],
   "source": [
    "# according to task description, 'The date when they stopped taking up new users: 2020-12-21'\n",
    "# so we'd keep the users who joined before 2020-12-22:\n",
    "\n",
    "final = final[final[\"first_date\"] <\"2020-12-22\"].sort_values('first_date')"
   ]
  },
  {
   "cell_type": "code",
   "execution_count": 36,
   "metadata": {},
   "outputs": [
    {
     "data": {
      "text/plain": [
       "Text(0, 0.5, 'Events Count')"
      ]
     },
     "execution_count": 36,
     "metadata": {},
     "output_type": "execute_result"
    },
    {
     "data": {
      "image/png": "[encoded data removed]",
      "text/plain": [
       "<Figure size 1080x576 with 1 Axes>"
      ]
     },
     "metadata": {
      "needs_background": "light"
     },
     "output_type": "display_data"
    }
   ],
   "source": [
    "# plotting a distribution histogram of events per user using the hist() method\n",
    "ax = final['event_dt'].hist(grid=False, bins=50, figsize=(15,8), color='lightblue', zorder=2, rwidth=0.9);\n",
    "# defining axes and title\n",
    "plt.suptitle(\"Events per New Users\", weight='bold', size=15)\n",
    "plt.xlabel('Date', weight='bold', size=12)\n",
    "plt.ylabel('Events Count', weight='bold', size=12)"
   ]
  },
  {
   "cell_type": "markdown",
   "metadata": {},
   "source": [
    "The events are distributed evenly up to 2020-12-21, and after this date events count goes down as we stopped taking new participants to the test."
   ]
  },
  {
   "cell_type": "code",
   "execution_count": 37,
   "metadata": {},
   "outputs": [],
   "source": [
    "# defining unique users per event \n",
    "users_per_event = (final\n",
    "             .groupby(['event_name'])\n",
    "             .agg({\"user_id\": \"nunique\"})\n",
    "             .sort_values('user_id', ascending=False))\n",
    "\n",
    "event_proportion = (final['event_name']\n",
    "              .value_counts()\n",
    "              .sort_values(ascending=False))\n",
    "\n",
    "dataframes = [users_per_event, users_per_event, event_proportion, event_proportion]"
   ]
  },
  {
   "cell_type": "code",
   "execution_count": 38,
   "metadata": {},
   "outputs": [],
   "source": [
    "def modifyChart(ax,title,labelSize,xLabel='',yLabel='',\n",
    "                titleSize=False,maxs=False,grid=False,\n",
    "                highlightTop =False,highlightXVal =False, topValueColor=False):\n",
    "    \"\"\"\n",
    "    Function that takes in graph variables for the purpose of customizing \n",
    "    their default settings (ie. setting label size)\n",
    "    \"\"\"\n",
    "    if titleSize != False:\n",
    "        ax.set_title(title,fontsize=titleSize,fontweight='semibold', pad=10)\n",
    "    else:\n",
    "        ax.set_title(title)\n",
    "\n",
    "    # spines\n",
    "    sns.despine()\n",
    "    ax.spines['bottom'].set_color('gray')\n",
    "    ax.spines['left'].set_color('lightgrey')\n",
    "\n",
    "    # labels\n",
    "    ax.set_ylabel(yLabel, labelpad=5, fontsize=16)\n",
    "    ax.set_xlabel(xLabel, labelpad=5, fontsize=16)\n",
    "\n",
    "    # tick settings\n",
    "    ax.tick_params(labelsize=labelSize)\n",
    "    ax.tick_params(axis='both', left=False, bottom=False)\n",
    "    # custom settings \n",
    "    if grid:\n",
    "        ax.grid(axis=grid, alpha=.4)\n",
    "    if maxs:\n",
    "        modifyMaxYTick(ax,maxs,highlightTop)\n",
    "    if topValueColor:\n",
    "        modifyMaxValueColor(ax,topValueColor)\n",
    "    if highlightTop:\n",
    "        ax.get_yticklabels()[-1].set_color('black')\n",
    "    if highlightXVal:\n",
    "        # getting first x-tick label and setting its color to black\n",
    "        ax.get_xticklabels()[0].set_color('black')"
   ]
  },
  {
   "cell_type": "code",
   "execution_count": 39,
   "metadata": {},
   "outputs": [],
   "source": [
    "def modifyMaxYTick(ax, maxValue,highlightTop):\n",
    "# keeping all except last tick - ensure that the ticks don't overlap\n",
    "    midCenterQuarter = (ax.get_yticks()[1] - ax.get_yticks()[0]) / 4\n",
    "\n",
    "    ax.set_ylim(0, maxValue)  # setting the yticks\n",
    "# add the last tick value\n",
    "    y_ticks = np.append(\n",
    "        [i for i in ax.get_yticks() if i < (maxValue - midCenterQuarter)], [maxValue])\n",
    "# setting the modified y-ticks\n",
    "    ax.set_yticks(y_ticks)"
   ]
  },
  {
   "cell_type": "code",
   "execution_count": 40,
   "metadata": {},
   "outputs": [],
   "source": [
    "def modifyMaxValueColor(ax,topValueColor):\n",
    "    ax.get_children()[0].set_color(topValueColor)\n",
    "    ax.get_children()[-1].set_alpha(.8)\n",
    "# changing size and color of tick labels (ticks are set to 0 for not being displayed)\n",
    "    ax.tick_params(labelsize=15, size=0, labelcolor='black')"
   ]
  },
  {
   "cell_type": "code",
   "execution_count": 41,
   "metadata": {},
   "outputs": [
    {
     "data": {
      "image/png": "[encoded data removed]",
      "text/plain": [
       "<Figure size 1080x360 with 4 Axes>"
      ]
     },
     "metadata": {
      "needs_background": "light"
     },
     "output_type": "display_data"
    }
   ],
   "source": [
    "# plotting the hists of events and new users in absolute numbers and their share in percent\n",
    "fig, ax = plt.subplots(figsize=(15, 5), ncols=2, nrows=2)\n",
    "axes = [(row, col) for row in range(0, 2) for col in range(0, 2)]\n",
    "\n",
    "for df, i in zip(dataframes, axes):\n",
    "    name = ' (Absolute)' if i[1] == 0 else ' (Relative)'\n",
    "    if i[1] == 0: \n",
    "        chart = df.plot(kind='bar', rot=0, alpha=.9,\n",
    "                        ax=ax[i], legend=False, color='lightblue')\n",
    "    #--------------------------------------------------------------------------------\n",
    "    if i[1] == 1: # (absolute)\n",
    "        chart = round(df.divide(df.max())*100, 2)\n",
    "        chart.plot(kind='bar', rot=0, alpha=.9,\n",
    "                   ax=ax[i], legend=False, color='lightblue')\n",
    "    ax[i].yaxis.set_major_formatter(\n",
    "        ticker.PercentFormatter()) if i[1] == 1 else ''\n",
    "    #------------------------------------------------------------------------------\n",
    "    # labelling\n",
    "    percent = '' if i[1] == 0 else '%'\n",
    "    labels = df.values if i[1] == 0 else chart.values\n",
    "    for event, prop in zip(ax[i].get_xticks(), labels):\n",
    "        plt.sca(ax[i])\n",
    "        plt.text(event, prop, f'{prop[0]:,}'+percent if i[0] == 0 else f'{prop:,}'+percent,\n",
    "                 fontsize=14, horizontalalignment='center')\n",
    "    # hist modifications\n",
    "    modifyChart(ax[i], 'Share of Events'+name if i[0] == 1 else 'Unique Users Per Event'+name, 13, titleSize=18,\n",
    "                topValueColor='lightgreen',highlightXVal=True)\n",
    "    ax[i].grid(axis='y',alpha=.2)\n",
    "plt.tight_layout()\n"
   ]
  },
  {
   "cell_type": "code",
   "execution_count": 42,
   "metadata": {},
   "outputs": [
    {
     "data": {
      "text/plain": [
       "Timedelta('23 days 18:26:07')"
      ]
     },
     "execution_count": 42,
     "metadata": {},
     "output_type": "execute_result"
    }
   ],
   "source": [
    "# calculating total datetime of events\n",
    "final['event_dt'].max() - final['event_dt'].min()"
   ]
  },
  {
   "cell_type": "code",
   "execution_count": 43,
   "metadata": {},
   "outputs": [],
   "source": [
    "# creating 'day' column from 'event_dt' by converting it to date format\n",
    "final['day'] = final['event_dt'].dt.date"
   ]
  },
  {
   "cell_type": "code",
   "execution_count": 44,
   "metadata": {},
   "outputs": [
    {
     "data": {
      "image/png": "[encoded data removed]",
      "text/plain": [
       "<Figure size 936x360 with 1 Axes>"
      ]
     },
     "metadata": {
      "needs_background": "light"
     },
     "output_type": "display_data"
    }
   ],
   "source": [
    "# calculating day revenue per each group\n",
    "fig,ax=plt.subplots(figsize=(13,5))\n",
    "rev = final.groupby([\"group\",\"day\"]).agg({\"order_total\":'sum'}).reset_index()\n",
    "plt.ylim(0, rev['order_total'].max())\n",
    "plt.xlim(rev['day'].min(), rev['day'].max())\n",
    "# setting xticks\n",
    "ax.set_xticks(ax.get_xticks())\n",
    "sns.lineplot(x='day',y='order_total',hue='group',data=rev,markers=True, marker='x', ci=None,ax=ax)\n",
    "modifyChart(ax,'Revenue by Day Per Group', 13,\n",
    "             xLabel='Day',yLabel='USD ($)',topValueColor='lightblue',\n",
    "            maxs=rev['order_total'].max(),titleSize=18)\n",
    "plt.grid(axis='x',alpha=.2)\n",
    "# setting yticks\n",
    "ax.set_yticks(ax.get_yticks())\n",
    "ax.set_yticklabels([f'${i:,.0f}' for i in ax.get_yticks()])\n",
    "plt.show()"
   ]
  },
  {
   "cell_type": "markdown",
   "metadata": {},
   "source": [
    "<div class=\"alert alert-success\">\n",
    "<b>Reviewer's comment: </b> Wow, great plots! \n",
    "</div>"
   ]
  },
  {
   "cell_type": "markdown",
   "metadata": {},
   "source": [
    "In the beginning group B showed better results, but group A had peak on 2020-12-21 and overall showed slightly better performance."
   ]
  },
  {
   "cell_type": "code",
   "execution_count": 45,
   "metadata": {},
   "outputs": [
    {
     "data": {
      "image/png": "[encoded data removed]",
      "text/plain": [
       "<Figure size 864x360 with 1 Axes>"
      ]
     },
     "metadata": {
      "needs_background": "light"
     },
     "output_type": "display_data"
    }
   ],
   "source": [
    "fig,ax=plt.subplots(figsize=(12,5))\n",
    "revCum = final.groupby([\"group\",\"day\"]).agg({\"order_total\":'sum'}).groupby(level=0).cumsum().reset_index()\n",
    "plt.ylim(0, revCum['order_total'].max())\n",
    "\n",
    "sns.lineplot(x='day',y='order_total',hue='group',data=revCum,markers=True,marker='x',ci=None,ax=ax)\n",
    "modifyChart(ax,'Cumulative Revenue by Day Per Experiment Group',\n",
    "            13,xLabel='Day',yLabel='Revenue ($)',topValueColor='lightblue',\n",
    "            maxs=revCum['order_total'].max(),highlightTop='black',titleSize=18)\n",
    "plt.grid(axis='y',alpha=.2)\n",
    "# setting x and yticks\n",
    "ax.set_yticks(ax.get_yticks())\n",
    "\n",
    "ax.set_xlim(revCum['day'].min(), revCum['day'].max())\n",
    "ax.set_xticks(pd.date_range(revCum['day'].min(), revCum['day'].max(), 6))\n",
    "ax.set_xticklabels([i.date() \n",
    "    for i in pd.date_range(revCum['day'].min(), revCum['day'].max(), 6)])\n",
    "ax.get_xticklabels()[0].set_rotation(15)\n",
    "plt.show()"
   ]
  },
  {
   "cell_type": "markdown",
   "metadata": {},
   "source": [
    "Both of segments have growing revenue rate. In the beginning they were equal, probably because of the low data base, but after 17.12.2020 segment A shows much higher revenue. Both of them have a steady and stabilized growing value. Segment A shows higher performance."
   ]
  },
  {
   "cell_type": "markdown",
   "metadata": {},
   "source": [
    "#### 2. Study conversion at different stages of the funnel."
   ]
  },
  {
   "cell_type": "code",
   "execution_count": 46,
   "metadata": {},
   "outputs": [],
   "source": [
    "# creating a variable to store only the users belonging to sample A\n",
    "users_a = final.query(\"group == 'A'\")\n",
    "# creating a variable to store only the users belonging to sample B\n",
    "users_b = final.query(\"group == 'B'\")"
   ]
  },
  {
   "cell_type": "code",
   "execution_count": 47,
   "metadata": {},
   "outputs": [],
   "source": [
    "#reindexing funnel order\n",
    "df_mapping = pd.DataFrame({\n",
    "    'event_name': ['login', 'product_page', 'product_cart', 'purchase']})\n",
    "sort_mapping = df_mapping.reset_index().set_index('event_name')"
   ]
  },
  {
   "cell_type": "code",
   "execution_count": 48,
   "metadata": {},
   "outputs": [
    {
     "data": {
      "application/vnd.plotly.v1+json": {
       "config": {
        "plotlyServerURL": "https://plot.ly"
       },
       "data": [
        {
         "marker": {
          "color": "lightgreen"
         },
         "opacity": 0.7,
         "type": "funnel",
         "x": [
          100,
          67.0426896704269,
          48.795776971296604,
          108.99256254225828
         ],
         "xaxis": "x",
         "y": [
          "login",
          "product_page",
          "product_cart",
          "purchase"
         ],
         "yaxis": "y"
        },
        {
         "marker": {
          "color": "lightblue"
         },
         "opacity": 0.7,
         "type": "funnel",
         "x": [
          100,
          65.64541563415183,
          52.02470830473575,
          97.55936675461741
         ],
         "xaxis": "x2",
         "y": [
          "login",
          "product_page",
          "product_cart",
          "purchase"
         ],
         "yaxis": "y2"
        },
        {
         "marker": {
          "color": "aquamarine"
         },
         "opacity": 0.7,
         "type": "funnel",
         "x": [
          100,
          66.35044642857143,
          50.3784693019344,
          103.20534223706177
         ],
         "xaxis": "x3",
         "y": [
          "login",
          "product_page",
          "product_cart",
          "purchase"
         ],
         "yaxis": "y3"
        }
       ],
       "layout": {
        "annotations": [
         {
          "font": {
           "size": 16
          },
          "showarrow": false,
          "text": "A",
          "x": 0.14444444444444446,
          "xanchor": "center",
          "xref": "paper",
          "y": 1,
          "yanchor": "bottom",
          "yref": "paper"
         },
         {
          "font": {
           "size": 16
          },
          "showarrow": false,
          "text": "B",
          "x": 0.5,
          "xanchor": "center",
          "xref": "paper",
          "y": 1,
          "yanchor": "bottom",
          "yref": "paper"
         },
         {
          "font": {
           "size": 16
          },
          "showarrow": false,
          "text": "All",
          "x": 0.8555555555555556,
          "xanchor": "center",
          "xref": "paper",
          "y": 1,
          "yanchor": "bottom",
          "yref": "paper"
         }
        ],
        "showlegend": false,
        "template": {
         "data": {
          "bar": [
           {
            "error_x": {
             "color": "#2a3f5f"
            },
            "error_y": {
             "color": "#2a3f5f"
            },
            "marker": {
             "line": {
              "color": "#E5ECF6",
              "width": 0.5
             }
            },
            "type": "bar"
           }
          ],
          "barpolar": [
           {
            "marker": {
             "line": {
              "color": "#E5ECF6",
              "width": 0.5
             }
            },
            "type": "barpolar"
           }
          ],
          "carpet": [
           {
            "aaxis": {
             "endlinecolor": "#2a3f5f",
             "gridcolor": "white",
             "linecolor": "white",
             "minorgridcolor": "white",
             "startlinecolor": "#2a3f5f"
            },
            "baxis": {
             "endlinecolor": "#2a3f5f",
             "gridcolor": "white",
             "linecolor": "white",
             "minorgridcolor": "white",
             "startlinecolor": "#2a3f5f"
            },
            "type": "carpet"
           }
          ],
          "choropleth": [
           {
            "colorbar": {
             "outlinewidth": 0,
             "ticks": ""
            },
            "type": "choropleth"
           }
          ],
          "contour": [
           {
            "colorbar": {
             "outlinewidth": 0,
             "ticks": ""
            },
            "colorscale": [
             [
              0,
              "#0d0887"
             ],
             [
              0.1111111111111111,
              "#46039f"
             ],
             [
              0.2222222222222222,
              "#7201a8"
             ],
             [
              0.3333333333333333,
              "#9c179e"
             ],
             [
              0.4444444444444444,
              "#bd3786"
             ],
             [
              0.5555555555555556,
              "#d8576b"
             ],
             [
              0.6666666666666666,
              "#ed7953"
             ],
             [
              0.7777777777777778,
              "#fb9f3a"
             ],
             [
              0.8888888888888888,
              "#fdca26"
             ],
             [
              1,
              "#f0f921"
             ]
            ],
            "type": "contour"
           }
          ],
          "contourcarpet": [
           {
            "colorbar": {
             "outlinewidth": 0,
             "ticks": ""
            },
            "type": "contourcarpet"
           }
          ],
          "heatmap": [
           {
            "colorbar": {
             "outlinewidth": 0,
             "ticks": ""
            },
            "colorscale": [
             [
              0,
              "#0d0887"
             ],
             [
              0.1111111111111111,
              "#46039f"
             ],
             [
              0.2222222222222222,
              "#7201a8"
             ],
             [
              0.3333333333333333,
              "#9c179e"
             ],
             [
              0.4444444444444444,
              "#bd3786"
             ],
             [
              0.5555555555555556,
              "#d8576b"
             ],
             [
              0.6666666666666666,
              "#ed7953"
             ],
             [
              0.7777777777777778,
              "#fb9f3a"
             ],
             [
              0.8888888888888888,
              "#fdca26"
             ],
             [
              1,
              "#f0f921"
             ]
            ],
            "type": "heatmap"
           }
          ],
          "heatmapgl": [
           {
            "colorbar": {
             "outlinewidth": 0,
             "ticks": ""
            },
            "colorscale": [
             [
              0,
              "#0d0887"
             ],
             [
              0.1111111111111111,
              "#46039f"
             ],
             [
              0.2222222222222222,
              "#7201a8"
             ],
             [
              0.3333333333333333,
              "#9c179e"
             ],
             [
              0.4444444444444444,
              "#bd3786"
             ],
             [
              0.5555555555555556,
              "#d8576b"
             ],
             [
              0.6666666666666666,
              "#ed7953"
             ],
             [
              0.7777777777777778,
              "#fb9f3a"
             ],
             [
              0.8888888888888888,
              "#fdca26"
             ],
             [
              1,
              "#f0f921"
             ]
            ],
            "type": "heatmapgl"
           }
          ],
          "histogram": [
           {
            "marker": {
             "colorbar": {
              "outlinewidth": 0,
              "ticks": ""
             }
            },
            "type": "histogram"
           }
          ],
          "histogram2d": [
           {
            "colorbar": {
             "outlinewidth": 0,
             "ticks": ""
            },
            "colorscale": [
             [
              0,
              "#0d0887"
             ],
             [
              0.1111111111111111,
              "#46039f"
             ],
             [
              0.2222222222222222,
              "#7201a8"
             ],
             [
              0.3333333333333333,
              "#9c179e"
             ],
             [
              0.4444444444444444,
              "#bd3786"
             ],
             [
              0.5555555555555556,
              "#d8576b"
             ],
             [
              0.6666666666666666,
              "#ed7953"
             ],
             [
              0.7777777777777778,
              "#fb9f3a"
             ],
             [
              0.8888888888888888,
              "#fdca26"
             ],
             [
              1,
              "#f0f921"
             ]
            ],
            "type": "histogram2d"
           }
          ],
          "histogram2dcontour": [
           {
            "colorbar": {
             "outlinewidth": 0,
             "ticks": ""
            },
            "colorscale": [
             [
              0,
              "#0d0887"
             ],
             [
              0.1111111111111111,
              "#46039f"
             ],
             [
              0.2222222222222222,
              "#7201a8"
             ],
             [
              0.3333333333333333,
              "#9c179e"
             ],
             [
              0.4444444444444444,
              "#bd3786"
             ],
             [
              0.5555555555555556,
              "#d8576b"
             ],
             [
              0.6666666666666666,
              "#ed7953"
             ],
             [
              0.7777777777777778,
              "#fb9f3a"
             ],
             [
              0.8888888888888888,
              "#fdca26"
             ],
             [
              1,
              "#f0f921"
             ]
            ],
            "type": "histogram2dcontour"
           }
          ],
          "mesh3d": [
           {
            "colorbar": {
             "outlinewidth": 0,
             "ticks": ""
            },
            "type": "mesh3d"
           }
          ],
          "parcoords": [
           {
            "line": {
             "colorbar": {
              "outlinewidth": 0,
              "ticks": ""
             }
            },
            "type": "parcoords"
           }
          ],
          "scatter": [
           {
            "marker": {
             "colorbar": {
              "outlinewidth": 0,
              "ticks": ""
             }
            },
            "type": "scatter"
           }
          ],
          "scatter3d": [
           {
            "line": {
             "colorbar": {
              "outlinewidth": 0,
              "ticks": ""
             }
            },
            "marker": {
             "colorbar": {
              "outlinewidth": 0,
              "ticks": ""
             }
            },
            "type": "scatter3d"
           }
          ],
          "scattercarpet": [
           {
            "marker": {
             "colorbar": {
              "outlinewidth": 0,
              "ticks": ""
             }
            },
            "type": "scattercarpet"
           }
          ],
          "scattergeo": [
           {
            "marker": {
             "colorbar": {
              "outlinewidth": 0,
              "ticks": ""
             }
            },
            "type": "scattergeo"
           }
          ],
          "scattergl": [
           {
            "marker": {
             "colorbar": {
              "outlinewidth": 0,
              "ticks": ""
             }
            },
            "type": "scattergl"
           }
          ],
          "scattermapbox": [
           {
            "marker": {
             "colorbar": {
              "outlinewidth": 0,
              "ticks": ""
             }
            },
            "type": "scattermapbox"
           }
          ],
          "scatterpolar": [
           {
            "marker": {
             "colorbar": {
              "outlinewidth": 0,
              "ticks": ""
             }
            },
            "type": "scatterpolar"
           }
          ],
          "scatterpolargl": [
           {
            "marker": {
             "colorbar": {
              "outlinewidth": 0,
              "ticks": ""
             }
            },
            "type": "scatterpolargl"
           }
          ],
          "scatterternary": [
           {
            "marker": {
             "colorbar": {
              "outlinewidth": 0,
              "ticks": ""
             }
            },
            "type": "scatterternary"
           }
          ],
          "surface": [
           {
            "colorbar": {
             "outlinewidth": 0,
             "ticks": ""
            },
            "colorscale": [
             [
              0,
              "#0d0887"
             ],
             [
              0.1111111111111111,
              "#46039f"
             ],
             [
              0.2222222222222222,
              "#7201a8"
             ],
             [
              0.3333333333333333,
              "#9c179e"
             ],
             [
              0.4444444444444444,
              "#bd3786"
             ],
             [
              0.5555555555555556,
              "#d8576b"
             ],
             [
              0.6666666666666666,
              "#ed7953"
             ],
             [
              0.7777777777777778,
              "#fb9f3a"
             ],
             [
              0.8888888888888888,
              "#fdca26"
             ],
             [
              1,
              "#f0f921"
             ]
            ],
            "type": "surface"
           }
          ],
          "table": [
           {
            "cells": {
             "fill": {
              "color": "#EBF0F8"
             },
             "line": {
              "color": "white"
             }
            },
            "header": {
             "fill": {
              "color": "#C8D4E3"
             },
             "line": {
              "color": "white"
             }
            },
            "type": "table"
           }
          ]
         },
         "layout": {
          "annotationdefaults": {
           "arrowcolor": "#2a3f5f",
           "arrowhead": 0,
           "arrowwidth": 1
          },
          "colorscale": {
           "diverging": [
            [
             0,
             "#8e0152"
            ],
            [
             0.1,
             "#c51b7d"
            ],
            [
             0.2,
             "#de77ae"
            ],
            [
             0.3,
             "#f1b6da"
            ],
            [
             0.4,
             "#fde0ef"
            ],
            [
             0.5,
             "#f7f7f7"
            ],
            [
             0.6,
             "#e6f5d0"
            ],
            [
             0.7,
             "#b8e186"
            ],
            [
             0.8,
             "#7fbc41"
            ],
            [
             0.9,
             "#4d9221"
            ],
            [
             1,
             "#276419"
            ]
           ],
           "sequential": [
            [
             0,
             "#0d0887"
            ],
            [
             0.1111111111111111,
             "#46039f"
            ],
            [
             0.2222222222222222,
             "#7201a8"
            ],
            [
             0.3333333333333333,
             "#9c179e"
            ],
            [
             0.4444444444444444,
             "#bd3786"
            ],
            [
             0.5555555555555556,
             "#d8576b"
            ],
            [
             0.6666666666666666,
             "#ed7953"
            ],
            [
             0.7777777777777778,
             "#fb9f3a"
            ],
            [
             0.8888888888888888,
             "#fdca26"
            ],
            [
             1,
             "#f0f921"
            ]
           ],
           "sequentialminus": [
            [
             0,
             "#0d0887"
            ],
            [
             0.1111111111111111,
             "#46039f"
            ],
            [
             0.2222222222222222,
             "#7201a8"
            ],
            [
             0.3333333333333333,
             "#9c179e"
            ],
            [
             0.4444444444444444,
             "#bd3786"
            ],
            [
             0.5555555555555556,
             "#d8576b"
            ],
            [
             0.6666666666666666,
             "#ed7953"
            ],
            [
             0.7777777777777778,
             "#fb9f3a"
            ],
            [
             0.8888888888888888,
             "#fdca26"
            ],
            [
             1,
             "#f0f921"
            ]
           ]
          },
          "colorway": [
           "#636efa",
           "#EF553B",
           "#00cc96",
           "#ab63fa",
           "#FFA15A",
           "#19d3f3",
           "#FF6692",
           "#B6E880",
           "#FF97FF",
           "#FECB52"
          ],
          "font": {
           "color": "#2a3f5f"
          },
          "geo": {
           "bgcolor": "white",
           "lakecolor": "white",
           "landcolor": "#E5ECF6",
           "showlakes": true,
           "showland": true,
           "subunitcolor": "white"
          },
          "hoverlabel": {
           "align": "left"
          },
          "hovermode": "closest",
          "mapbox": {
           "style": "light"
          },
          "paper_bgcolor": "white",
          "plot_bgcolor": "#E5ECF6",
          "polar": {
           "angularaxis": {
            "gridcolor": "white",
            "linecolor": "white",
            "ticks": ""
           },
           "bgcolor": "#E5ECF6",
           "radialaxis": {
            "gridcolor": "white",
            "linecolor": "white",
            "ticks": ""
           }
          },
          "scene": {
           "xaxis": {
            "backgroundcolor": "#E5ECF6",
            "gridcolor": "white",
            "gridwidth": 2,
            "linecolor": "white",
            "showbackground": true,
            "ticks": "",
            "zerolinecolor": "white"
           },
           "yaxis": {
            "backgroundcolor": "#E5ECF6",
            "gridcolor": "white",
            "gridwidth": 2,
            "linecolor": "white",
            "showbackground": true,
            "ticks": "",
            "zerolinecolor": "white"
           },
           "zaxis": {
            "backgroundcolor": "#E5ECF6",
            "gridcolor": "white",
            "gridwidth": 2,
            "linecolor": "white",
            "showbackground": true,
            "ticks": "",
            "zerolinecolor": "white"
           }
          },
          "shapedefaults": {
           "line": {
            "color": "#2a3f5f"
           }
          },
          "ternary": {
           "aaxis": {
            "gridcolor": "white",
            "linecolor": "white",
            "ticks": ""
           },
           "baxis": {
            "gridcolor": "white",
            "linecolor": "white",
            "ticks": ""
           },
           "bgcolor": "#E5ECF6",
           "caxis": {
            "gridcolor": "white",
            "linecolor": "white",
            "ticks": ""
           }
          },
          "title": {
           "x": 0.05
          },
          "xaxis": {
           "automargin": true,
           "gridcolor": "white",
           "linecolor": "white",
           "ticks": "",
           "zerolinecolor": "white",
           "zerolinewidth": 2
          },
          "yaxis": {
           "automargin": true,
           "gridcolor": "white",
           "linecolor": "white",
           "ticks": "",
           "zerolinecolor": "white",
           "zerolinewidth": 2
          }
         }
        },
        "title": {
         "font": {
          "size": 25
         },
         "text": "Unique Users Relative Ratio to The Next Stage",
         "x": 0.5,
         "y": 0.93
        },
        "xaxis": {
         "anchor": "y",
         "domain": [
          0,
          0.2888888888888889
         ]
        },
        "xaxis2": {
         "anchor": "y2",
         "domain": [
          0.35555555555555557,
          0.6444444444444445
         ]
        },
        "xaxis3": {
         "anchor": "y3",
         "domain": [
          0.7111111111111111,
          1
         ]
        },
        "yaxis": {
         "anchor": "x",
         "domain": [
          0,
          1
         ]
        },
        "yaxis2": {
         "anchor": "x2",
         "domain": [
          0,
          1
         ],
         "showticklabels": false
        },
        "yaxis3": {
         "anchor": "x3",
         "domain": [
          0,
          1
         ],
         "showticklabels": false
        }
       }
      },
      "text/html": [
       "<div>\n",
       "        \n",
       "        \n",
       "            <div id=\"827ce2fd-04c9-4bd0-9307-14986daf127c\" class=\"plotly-graph-div\" style=\"height:525px; width:100%;\"></div>\n",
       "            <script type=\"text/javascript\">\n",
       "                require([\"plotly\"], function(Plotly) {\n",
       "                    window.PLOTLYENV=window.PLOTLYENV || {};\n",
       "                    \n",
       "                if (document.getElementById(\"827ce2fd-04c9-4bd0-9307-14986daf127c\")) {\n",
       "                    Plotly.newPlot(\n",
       "                        '827ce2fd-04c9-4bd0-9307-14986daf127c',\n",
       "                        [{\"marker\": {\"color\": \"lightgreen\"}, \"opacity\": 0.7, \"type\": \"funnel\", \"x\": [100.0, 67.0426896704269, 48.795776971296604, 108.99256254225828], \"xaxis\": \"x\", \"y\": [\"login\", \"product_page\", \"product_cart\", \"purchase\"], \"yaxis\": \"y\"}, {\"marker\": {\"color\": \"lightblue\"}, \"opacity\": 0.7, \"type\": \"funnel\", \"x\": [100.0, 65.64541563415183, 52.02470830473575, 97.55936675461741], \"xaxis\": \"x2\", \"y\": [\"login\", \"product_page\", \"product_cart\", \"purchase\"], \"yaxis\": \"y2\"}, {\"marker\": {\"color\": \"aquamarine\"}, \"opacity\": 0.7, \"type\": \"funnel\", \"x\": [100.0, 66.35044642857143, 50.3784693019344, 103.20534223706177], \"xaxis\": \"x3\", \"y\": [\"login\", \"product_page\", \"product_cart\", \"purchase\"], \"yaxis\": \"y3\"}],\n",
       "                        {\"annotations\": [{\"font\": {\"size\": 16}, \"showarrow\": false, \"text\": \"A\", \"x\": 0.14444444444444446, \"xanchor\": \"center\", \"xref\": \"paper\", \"y\": 1.0, \"yanchor\": \"bottom\", \"yref\": \"paper\"}, {\"font\": {\"size\": 16}, \"showarrow\": false, \"text\": \"B\", \"x\": 0.5, \"xanchor\": \"center\", \"xref\": \"paper\", \"y\": 1.0, \"yanchor\": \"bottom\", \"yref\": \"paper\"}, {\"font\": {\"size\": 16}, \"showarrow\": false, \"text\": \"All\", \"x\": 0.8555555555555556, \"xanchor\": \"center\", \"xref\": \"paper\", \"y\": 1.0, \"yanchor\": \"bottom\", \"yref\": \"paper\"}], \"showlegend\": false, \"template\": {\"data\": {\"bar\": [{\"error_x\": {\"color\": \"#2a3f5f\"}, \"error_y\": {\"color\": \"#2a3f5f\"}, \"marker\": {\"line\": {\"color\": \"#E5ECF6\", \"width\": 0.5}}, \"type\": \"bar\"}], \"barpolar\": [{\"marker\": {\"line\": {\"color\": \"#E5ECF6\", \"width\": 0.5}}, \"type\": \"barpolar\"}], \"carpet\": [{\"aaxis\": {\"endlinecolor\": \"#2a3f5f\", \"gridcolor\": \"white\", \"linecolor\": \"white\", \"minorgridcolor\": \"white\", \"startlinecolor\": \"#2a3f5f\"}, \"baxis\": {\"endlinecolor\": \"#2a3f5f\", \"gridcolor\": \"white\", \"linecolor\": \"white\", \"minorgridcolor\": \"white\", \"startlinecolor\": \"#2a3f5f\"}, \"type\": \"carpet\"}], \"choropleth\": [{\"colorbar\": {\"outlinewidth\": 0, \"ticks\": \"\"}, \"type\": \"choropleth\"}], \"contour\": [{\"colorbar\": {\"outlinewidth\": 0, \"ticks\": \"\"}, \"colorscale\": [[0.0, \"#0d0887\"], [0.1111111111111111, \"#46039f\"], [0.2222222222222222, \"#7201a8\"], [0.3333333333333333, \"#9c179e\"], [0.4444444444444444, \"#bd3786\"], [0.5555555555555556, \"#d8576b\"], [0.6666666666666666, \"#ed7953\"], [0.7777777777777778, \"#fb9f3a\"], [0.8888888888888888, \"#fdca26\"], [1.0, \"#f0f921\"]], \"type\": \"contour\"}], \"contourcarpet\": [{\"colorbar\": {\"outlinewidth\": 0, \"ticks\": \"\"}, \"type\": \"contourcarpet\"}], \"heatmap\": [{\"colorbar\": {\"outlinewidth\": 0, \"ticks\": \"\"}, \"colorscale\": [[0.0, \"#0d0887\"], [0.1111111111111111, \"#46039f\"], [0.2222222222222222, \"#7201a8\"], [0.3333333333333333, \"#9c179e\"], [0.4444444444444444, \"#bd3786\"], [0.5555555555555556, \"#d8576b\"], [0.6666666666666666, \"#ed7953\"], [0.7777777777777778, \"#fb9f3a\"], [0.8888888888888888, \"#fdca26\"], [1.0, \"#f0f921\"]], \"type\": \"heatmap\"}], \"heatmapgl\": [{\"colorbar\": {\"outlinewidth\": 0, \"ticks\": \"\"}, \"colorscale\": [[0.0, \"#0d0887\"], [0.1111111111111111, \"#46039f\"], [0.2222222222222222, \"#7201a8\"], [0.3333333333333333, \"#9c179e\"], [0.4444444444444444, \"#bd3786\"], [0.5555555555555556, \"#d8576b\"], [0.6666666666666666, \"#ed7953\"], [0.7777777777777778, \"#fb9f3a\"], [0.8888888888888888, \"#fdca26\"], [1.0, \"#f0f921\"]], \"type\": \"heatmapgl\"}], \"histogram\": [{\"marker\": {\"colorbar\": {\"outlinewidth\": 0, \"ticks\": \"\"}}, \"type\": \"histogram\"}], \"histogram2d\": [{\"colorbar\": {\"outlinewidth\": 0, \"ticks\": \"\"}, \"colorscale\": [[0.0, \"#0d0887\"], [0.1111111111111111, \"#46039f\"], [0.2222222222222222, \"#7201a8\"], [0.3333333333333333, \"#9c179e\"], [0.4444444444444444, \"#bd3786\"], [0.5555555555555556, \"#d8576b\"], [0.6666666666666666, \"#ed7953\"], [0.7777777777777778, \"#fb9f3a\"], [0.8888888888888888, \"#fdca26\"], [1.0, \"#f0f921\"]], \"type\": \"histogram2d\"}], \"histogram2dcontour\": [{\"colorbar\": {\"outlinewidth\": 0, \"ticks\": \"\"}, \"colorscale\": [[0.0, \"#0d0887\"], [0.1111111111111111, \"#46039f\"], [0.2222222222222222, \"#7201a8\"], [0.3333333333333333, \"#9c179e\"], [0.4444444444444444, \"#bd3786\"], [0.5555555555555556, \"#d8576b\"], [0.6666666666666666, \"#ed7953\"], [0.7777777777777778, \"#fb9f3a\"], [0.8888888888888888, \"#fdca26\"], [1.0, \"#f0f921\"]], \"type\": \"histogram2dcontour\"}], \"mesh3d\": [{\"colorbar\": {\"outlinewidth\": 0, \"ticks\": \"\"}, \"type\": \"mesh3d\"}], \"parcoords\": [{\"line\": {\"colorbar\": {\"outlinewidth\": 0, \"ticks\": \"\"}}, \"type\": \"parcoords\"}], \"scatter\": [{\"marker\": {\"colorbar\": {\"outlinewidth\": 0, \"ticks\": \"\"}}, \"type\": \"scatter\"}], \"scatter3d\": [{\"line\": {\"colorbar\": {\"outlinewidth\": 0, \"ticks\": \"\"}}, \"marker\": {\"colorbar\": {\"outlinewidth\": 0, \"ticks\": \"\"}}, \"type\": \"scatter3d\"}], \"scattercarpet\": [{\"marker\": {\"colorbar\": {\"outlinewidth\": 0, \"ticks\": \"\"}}, \"type\": \"scattercarpet\"}], \"scattergeo\": [{\"marker\": {\"colorbar\": {\"outlinewidth\": 0, \"ticks\": \"\"}}, \"type\": \"scattergeo\"}], \"scattergl\": [{\"marker\": {\"colorbar\": {\"outlinewidth\": 0, \"ticks\": \"\"}}, \"type\": \"scattergl\"}], \"scattermapbox\": [{\"marker\": {\"colorbar\": {\"outlinewidth\": 0, \"ticks\": \"\"}}, \"type\": \"scattermapbox\"}], \"scatterpolar\": [{\"marker\": {\"colorbar\": {\"outlinewidth\": 0, \"ticks\": \"\"}}, \"type\": \"scatterpolar\"}], \"scatterpolargl\": [{\"marker\": {\"colorbar\": {\"outlinewidth\": 0, \"ticks\": \"\"}}, \"type\": \"scatterpolargl\"}], \"scatterternary\": [{\"marker\": {\"colorbar\": {\"outlinewidth\": 0, \"ticks\": \"\"}}, \"type\": \"scatterternary\"}], \"surface\": [{\"colorbar\": {\"outlinewidth\": 0, \"ticks\": \"\"}, \"colorscale\": [[0.0, \"#0d0887\"], [0.1111111111111111, \"#46039f\"], [0.2222222222222222, \"#7201a8\"], [0.3333333333333333, \"#9c179e\"], [0.4444444444444444, \"#bd3786\"], [0.5555555555555556, \"#d8576b\"], [0.6666666666666666, \"#ed7953\"], [0.7777777777777778, \"#fb9f3a\"], [0.8888888888888888, \"#fdca26\"], [1.0, \"#f0f921\"]], \"type\": \"surface\"}], \"table\": [{\"cells\": {\"fill\": {\"color\": \"#EBF0F8\"}, \"line\": {\"color\": \"white\"}}, \"header\": {\"fill\": {\"color\": \"#C8D4E3\"}, \"line\": {\"color\": \"white\"}}, \"type\": \"table\"}]}, \"layout\": {\"annotationdefaults\": {\"arrowcolor\": \"#2a3f5f\", \"arrowhead\": 0, \"arrowwidth\": 1}, \"colorscale\": {\"diverging\": [[0, \"#8e0152\"], [0.1, \"#c51b7d\"], [0.2, \"#de77ae\"], [0.3, \"#f1b6da\"], [0.4, \"#fde0ef\"], [0.5, \"#f7f7f7\"], [0.6, \"#e6f5d0\"], [0.7, \"#b8e186\"], [0.8, \"#7fbc41\"], [0.9, \"#4d9221\"], [1, \"#276419\"]], \"sequential\": [[0.0, \"#0d0887\"], [0.1111111111111111, \"#46039f\"], [0.2222222222222222, \"#7201a8\"], [0.3333333333333333, \"#9c179e\"], [0.4444444444444444, \"#bd3786\"], [0.5555555555555556, \"#d8576b\"], [0.6666666666666666, \"#ed7953\"], [0.7777777777777778, \"#fb9f3a\"], [0.8888888888888888, \"#fdca26\"], [1.0, \"#f0f921\"]], \"sequentialminus\": [[0.0, \"#0d0887\"], [0.1111111111111111, \"#46039f\"], [0.2222222222222222, \"#7201a8\"], [0.3333333333333333, \"#9c179e\"], [0.4444444444444444, \"#bd3786\"], [0.5555555555555556, \"#d8576b\"], [0.6666666666666666, \"#ed7953\"], [0.7777777777777778, \"#fb9f3a\"], [0.8888888888888888, \"#fdca26\"], [1.0, \"#f0f921\"]]}, \"colorway\": [\"#636efa\", \"#EF553B\", \"#00cc96\", \"#ab63fa\", \"#FFA15A\", \"#19d3f3\", \"#FF6692\", \"#B6E880\", \"#FF97FF\", \"#FECB52\"], \"font\": {\"color\": \"#2a3f5f\"}, \"geo\": {\"bgcolor\": \"white\", \"lakecolor\": \"white\", \"landcolor\": \"#E5ECF6\", \"showlakes\": true, \"showland\": true, \"subunitcolor\": \"white\"}, \"hoverlabel\": {\"align\": \"left\"}, \"hovermode\": \"closest\", \"mapbox\": {\"style\": \"light\"}, \"paper_bgcolor\": \"white\", \"plot_bgcolor\": \"#E5ECF6\", \"polar\": {\"angularaxis\": {\"gridcolor\": \"white\", \"linecolor\": \"white\", \"ticks\": \"\"}, \"bgcolor\": \"#E5ECF6\", \"radialaxis\": {\"gridcolor\": \"white\", \"linecolor\": \"white\", \"ticks\": \"\"}}, \"scene\": {\"xaxis\": {\"backgroundcolor\": \"#E5ECF6\", \"gridcolor\": \"white\", \"gridwidth\": 2, \"linecolor\": \"white\", \"showbackground\": true, \"ticks\": \"\", \"zerolinecolor\": \"white\"}, \"yaxis\": {\"backgroundcolor\": \"#E5ECF6\", \"gridcolor\": \"white\", \"gridwidth\": 2, \"linecolor\": \"white\", \"showbackground\": true, \"ticks\": \"\", \"zerolinecolor\": \"white\"}, \"zaxis\": {\"backgroundcolor\": \"#E5ECF6\", \"gridcolor\": \"white\", \"gridwidth\": 2, \"linecolor\": \"white\", \"showbackground\": true, \"ticks\": \"\", \"zerolinecolor\": \"white\"}}, \"shapedefaults\": {\"line\": {\"color\": \"#2a3f5f\"}}, \"ternary\": {\"aaxis\": {\"gridcolor\": \"white\", \"linecolor\": \"white\", \"ticks\": \"\"}, \"baxis\": {\"gridcolor\": \"white\", \"linecolor\": \"white\", \"ticks\": \"\"}, \"bgcolor\": \"#E5ECF6\", \"caxis\": {\"gridcolor\": \"white\", \"linecolor\": \"white\", \"ticks\": \"\"}}, \"title\": {\"x\": 0.05}, \"xaxis\": {\"automargin\": true, \"gridcolor\": \"white\", \"linecolor\": \"white\", \"ticks\": \"\", \"zerolinecolor\": \"white\", \"zerolinewidth\": 2}, \"yaxis\": {\"automargin\": true, \"gridcolor\": \"white\", \"linecolor\": \"white\", \"ticks\": \"\", \"zerolinecolor\": \"white\", \"zerolinewidth\": 2}}}, \"title\": {\"font\": {\"size\": 25}, \"text\": \"Unique Users Relative Ratio to The Next Stage\", \"x\": 0.5, \"y\": 0.93}, \"xaxis\": {\"anchor\": \"y\", \"domain\": [0.0, 0.2888888888888889]}, \"xaxis2\": {\"anchor\": \"y2\", \"domain\": [0.35555555555555557, 0.6444444444444445]}, \"xaxis3\": {\"anchor\": \"y3\", \"domain\": [0.7111111111111111, 1.0]}, \"yaxis\": {\"anchor\": \"x\", \"domain\": [0.0, 1.0]}, \"yaxis2\": {\"anchor\": \"x2\", \"domain\": [0.0, 1.0], \"showticklabels\": false}, \"yaxis3\": {\"anchor\": \"x3\", \"domain\": [0.0, 1.0], \"showticklabels\": false}},\n",
       "                        {\"responsive\": true}\n",
       "                    ).then(function(){\n",
       "                            \n",
       "var gd = document.getElementById('827ce2fd-04c9-4bd0-9307-14986daf127c');\n",
       "var x = new MutationObserver(function (mutations, observer) {{\n",
       "        var display = window.getComputedStyle(gd).display;\n",
       "        if (!display || display === 'none') {{\n",
       "            console.log([gd, 'removed!']);\n",
       "            Plotly.purge(gd);\n",
       "            observer.disconnect();\n",
       "        }}\n",
       "}});\n",
       "\n",
       "// Listen for the removal of the full notebook cells\n",
       "var notebookContainer = gd.closest('#notebook-container');\n",
       "if (notebookContainer) {{\n",
       "    x.observe(notebookContainer, {childList: true});\n",
       "}}\n",
       "\n",
       "// Listen for the clearing of the current output cell\n",
       "var outputEl = gd.closest('.output');\n",
       "if (outputEl) {{\n",
       "    x.observe(outputEl, {childList: true});\n",
       "}}\n",
       "\n",
       "                        })\n",
       "                };\n",
       "                });\n",
       "            </script>\n",
       "        </div>"
      ]
     },
     "metadata": {},
     "output_type": "display_data"
    }
   ],
   "source": [
    "# total unique users per event (value count for each user)\n",
    "fig = make_subplots(rows=1, cols=3,subplot_titles=(\"A\", \"B\", \"All\"))\n",
    "color = ['lightgreen',\"lightblue\",'aquamarine']\n",
    "for df, i, title,c in zip([users_a, users_b, final], range(1, 4), ['A', 'B', 'All'],color):\n",
    "    relativeRatio = (df\n",
    "                   .groupby('event_name')\n",
    "                   .agg({\"user_id\": 'nunique'})\n",
    "                   .sort_values('user_id', ascending=False)\n",
    "                   .reset_index())\n",
    "    relativeRatio.columns = ['event_name', 'uniqueUserCount']\n",
    "    relativeRatio['funnel'] = relativeRatio['event_name'].map(sort_mapping['index'])\n",
    "    relativeRatio = relativeRatio.sort_values('funnel', ascending=True)\n",
    "    # share of users at current stage relative to previous stage\n",
    "    relativeRatio['user_conversion'] = (relativeRatio['uniqueUserCount']\n",
    "                                      .div(relativeRatio['uniqueUserCount']\n",
    "                                           .shift(1))\n",
    "                                      .fillna(1) * 100)\n",
    "\n",
    "    fig.add_trace(go.Funnel(\n",
    "        x=relativeRatio['user_conversion'],\n",
    "        y=relativeRatio['event_name'],marker = {\"color\": c},\n",
    "        opacity=.7), row=1, col=i,\n",
    "    )\n",
    "    if i != 1:\n",
    "        fig.update_yaxes(showticklabels=False, col=i)\n",
    "\n",
    "fig.update_layout(title={'text':'Unique Users Relative Ratio to The Next Stage',\n",
    "                         'font':dict(size=25), \"x\":.5,\"y\":.93},\n",
    "                 showlegend=False)\n",
    "\n",
    "fig.show()\n"
   ]
  },
  {
   "cell_type": "markdown",
   "metadata": {},
   "source": [
    "The difference in relative ratio is very small and doesn't meet the expected result given in the task:\n",
    "\n",
    "- Expected result: within 14 days of signing up, users will show better conversion into product page views (the product_page event), product card views (product_card) and purchases (purchase). At each of the stage of the funnel product_page → product_card → purchase, there will be at least a 10% increase."
   ]
  },
  {
   "cell_type": "markdown",
   "metadata": {},
   "source": [
    "#### 3. Is the number of events per user distributed equally in the samples?"
   ]
  },
  {
   "cell_type": "markdown",
   "metadata": {},
   "source": [
    "According to the chart plotted before, the events are distributed almost equally for each group, group A shows slightly better performance when it comes to purchase stage. From event proportion I suppose that there's an option for direct purchse from product page, which makes some users avoid product_cart event and go straight to purchase."
   ]
  },
  {
   "cell_type": "markdown",
   "metadata": {},
   "source": [
    "### [Step 3. Evaluate the A/B test results](#chapter3)"
   ]
  },
  {
   "cell_type": "markdown",
   "metadata": {},
   "source": [
    "[Go back to the Table of Contents](#table_of_contents)"
   ]
  },
  {
   "cell_type": "markdown",
   "metadata": {},
   "source": [
    "#### 1. What can you tell about the A/A test results?"
   ]
  },
  {
   "cell_type": "code",
   "execution_count": 49,
   "metadata": {},
   "outputs": [
    {
     "data": {
      "text/html": [
       "<div>\n",
       "<style scoped>\n",
       "    .dataframe tbody tr th:only-of-type {\n",
       "        vertical-align: middle;\n",
       "    }\n",
       "\n",
       "    .dataframe tbody tr th {\n",
       "        vertical-align: top;\n",
       "    }\n",
       "\n",
       "    .dataframe thead th {\n",
       "        text-align: right;\n",
       "    }\n",
       "</style>\n",
       "<table border=\"1\" class=\"dataframe\">\n",
       "  <thead>\n",
       "    <tr style=\"text-align: right;\">\n",
       "      <th></th>\n",
       "      <th>user_id</th>\n",
       "    </tr>\n",
       "    <tr>\n",
       "      <th>group</th>\n",
       "      <th></th>\n",
       "    </tr>\n",
       "  </thead>\n",
       "  <tbody>\n",
       "    <tr>\n",
       "      <td>A</td>\n",
       "      <td>0.50463</td>\n",
       "    </tr>\n",
       "    <tr>\n",
       "      <td>B</td>\n",
       "      <td>0.49537</td>\n",
       "    </tr>\n",
       "  </tbody>\n",
       "</table>\n",
       "</div>"
      ],
      "text/plain": [
       "       user_id\n",
       "group         \n",
       "A      0.50463\n",
       "B      0.49537"
      ]
     },
     "execution_count": 49,
     "metadata": {},
     "output_type": "execute_result"
    }
   ],
   "source": [
    "final.groupby(['group']).agg({'user_id':'nunique'}).divide(final['user_id'].nunique())"
   ]
  },
  {
   "cell_type": "markdown",
   "metadata": {},
   "source": [
    "The number of users in different groups doesn't vary by more than 1%."
   ]
  },
  {
   "cell_type": "markdown",
   "metadata": {},
   "source": [
    "#### 2. Evaluate the A/B test results. Use the z-criterion to check the statistical difference between the proportions"
   ]
  },
  {
   "cell_type": "markdown",
   "metadata": {},
   "source": [
    "Let's test out each event to asses how the control groups were separated. Since we'll be testing the 4 events per group, it's natural that the false positive rate will increase. To correct this, we'll use the Bonferroni correction: alpha / number of comparisons."
   ]
  },
  {
   "cell_type": "code",
   "execution_count": 50,
   "metadata": {},
   "outputs": [],
   "source": [
    "# preparing variables and datasets\n",
    "\n",
    "# calculating Bonferroni alpha\n",
    "alpha = .1 \n",
    "comparisons = 4 \n",
    "bonferroni_alpha = alpha/comparisons\n",
    "\n",
    "# splitting data by group and events\n",
    "login_a, product_page_a, product_cart_a, purchase_a = [users_a.query(\"event_name == @events\") for events \n",
    "     in ['login', 'product_page', 'product_cart','purchase']]\n",
    "login_b, product_page_b, product_cart_b, purchase_b = [users_b.query(\"event_name == @events\") for events \n",
    "     in ['login', 'product_page', 'product_cart','purchase']]\n",
    "\n",
    "events =['login', 'product_page', 'product_cart','purchase']\n",
    "\n",
    "# combining the relevant variables into a list\n",
    "events_a =[login_a, product_page_a, product_cart_a, purchase_a]\n",
    "events_b =[login_b, product_page_b, product_cart_b, purchase_b]\n",
    "unique_users =[users_a['user_id'].nunique(), users_b['user_id'].nunique()]"
   ]
  },
  {
   "cell_type": "markdown",
   "metadata": {},
   "source": [
    "Comparing user conversion for login, product_page, product_cart and purchase events in each group.\n",
    "\n",
    "Users proportions: users count (group) / total users\n",
    "\n",
    "For each event:\n",
    "- Null hypothesis: Group A users per event proportion equal to group B event proportion.\n",
    "- Alternative hypothesis: Group A users per event proportion is not equal to group B event proportion."
   ]
  },
  {
   "cell_type": "code",
   "execution_count": 51,
   "metadata": {},
   "outputs": [
    {
     "name": "stdout",
     "output_type": "stream",
     "text": [
      "Event: login \tBonferroni Alpha: 0.025\n",
      "[4521, 4439] [[4523, 4440]]\n",
      "Failed to reject null hypothesis\n",
      "P-value = 0.5745 \n",
      "Z-score = -0.5614\n",
      "A proportion: 99.96%\n",
      "B proportion: 99.98%\n",
      "#######################################################################\n",
      "Event: product_page \tBonferroni Alpha: 0.025\n",
      "[3031, 2914] [[4523, 4440]]\n",
      "Failed to reject null hypothesis\n",
      "P-value = 0.1662 \n",
      "Z-score = 1.3846\n",
      "A proportion: 67.01%\n",
      "B proportion: 65.63%\n",
      "#######################################################################\n",
      "Event: product_cart \tBonferroni Alpha: 0.025\n",
      "[1479, 1516] [[4523, 4440]]\n",
      "Failed to reject null hypothesis\n",
      "P-value = 0.1472 \n",
      "Z-score = -1.4497\n",
      "A proportion: 32.70%\n",
      "B proportion: 34.14%\n",
      "#######################################################################\n",
      "Event: purchase \tBonferroni Alpha: 0.025\n",
      "[1612, 1479] [[4523, 4440]]\n",
      "Reject null hypothesis\n",
      "\tP-value = 0.0204 Z-score = 2.3196\n",
      "A proportion: 35.64%\n",
      "B proportion: 33.31%\n",
      "#######################################################################\n"
     ]
    }
   ],
   "source": [
    "for event_a, event_b, event in zip(events_a, events_b, events):\n",
    "    z_score, p_value = sm.stats.proportions_ztest(\n",
    "        [event_a['user_id'].nunique(), event_b['user_id'].nunique()],\n",
    "        [unique_users[0],unique_users[1]])\n",
    "    print(f'Event: {event} \\tBonferroni Alpha: {bonferroni_alpha}')\n",
    "    print([event_a['user_id'].nunique(), event_b['user_id'].nunique()],[unique_users])\n",
    "    if p_value < bonferroni_alpha:\n",
    "        print(f'Reject null hypothesis\\n\\tP-value = {p_value:.4f} Z-score = {z_score:.4f}')\n",
    "    else: \n",
    "        print(f'Failed to reject null hypothesis\\nP-value = {p_value:.4f} \\nZ-score = {z_score:.4f}')\n",
    "    print(f\"A proportion: {event_a.user_id.nunique() / unique_users[0]*100:.2f}%\")\n",
    "    print(f\"B proportion: {event_b.user_id.nunique() / unique_users[1]*100:.2f}%\")\n",
    "    print('#######################################################################')"
   ]
  },
  {
   "cell_type": "markdown",
   "metadata": {},
   "source": [
    "The results are statistically significant (null hypotheses rejected) only for 'purchase' event.\n",
    "\n",
    "- control group A had the larger shares in product_page and purchase events.\n",
    "- control group B had the larger relative share in the product_cart event. \n",
    "\n",
    "Unique users who make a lot of purchases seem to have been placed in group A at a larger share than in group B.\n",
    "So we can say that when it comes to actually making a payment A group is slightly more succesful."
   ]
  },
  {
   "cell_type": "markdown",
   "metadata": {},
   "source": [
    "### Describe your conclusions regarding the EDA stage and the A/B test results.\n"
   ]
  },
  {
   "cell_type": "markdown",
   "metadata": {},
   "source": [
    "- The date when they stopped taking up new users: 2020-12-21 - taken into account, test participants after this date dropped off.\n",
    "- Audience: 15% of the new users from the EU region - reached.\n",
    "- Purpose of the test: testing changes related to the introduction of an improved recommendation system - tested.\n",
    "- Expected number of test participants: 6000 - reached.\n",
    "- Expected result: within 14 days of signing up, users will show better conversion into product page views (the `product_page` event), product card views (`product_card`) and purchases (`purchase`). At each of the stage of the funnel `product_page → product_card → purchase`, there will be at least a 10% increase.\n",
    "\n",
    "The difference in relative ratio is very small and doesn't meet the expected result given in the task.\n",
    "\n",
    "Almost 43% of events fall on login event, around 28% on product_page, around 15% of events belong to purchase event, around 14% to product_cart event, which gives us a rough picture of events funnel. The event distribution shows that some users skipped product_cart event and went straight to purchase.\n",
    "\n",
    "In total we have 9965 unique EU test participants in logs, non-unique and users who participated in several tests and groups at the same time were dropped.\n",
    "\n",
    "The data has been collected starting from '2020-12-07' and finishing on '2021-01-01'.\n",
    "\n",
    "The events are distributed evenly up to 2020-12-21, and after this date events count goes down as we stopped taking the new participants to the test. We have specified the data range for tests (up to 21st of December) for further investigations. More events happened on Mondays.\n",
    "\n",
    "The users are equally distributed in both groups and experiments.\n",
    "\n",
    "We lose the most (around 33% of users) on the second and third stage - Product Page and Purchase events.\n",
    "\n",
    "Control group A shows a higher user conversion rate (35.64%) in comparison to the other control group (33.31%) when it comes to purchase. \n",
    "Most event proportions found to be statistically non significant (p <.001).\n",
    "\n",
    "Regardly to the experimental group:\n",
    "- control group A had the larger shares in product_page and purchase events.\n",
    "- control group B had the larger relative share in the product_cart event. \n",
    "\n",
    "Unique users who make a lot of purchases seem to have been placed in group A at a larger share than in group B.\n",
    "So we can say that when it comes to actually making a payment A group is slightly more succesful.\n",
    "\n",
    "Based on the non-significant the A/B test results and decrease in purchase event convertion the company should stop the experiment as the results don't show any improvement in user conversion rates between the control group and the experimental group. The expected test goal (10% conversion increase) has not been reached."
   ]
  },
  {
   "cell_type": "markdown",
   "metadata": {},
   "source": [
    "[Go back to the Table of Contents](#table_of_contents)"
   ]
  }
 ],
 "metadata": {
  "kernelspec": {
   "display_name": "Python 3",
   "language": "python",
   "name": "python3"
  },
  "language_info": {
   "codemirror_mode": {
    "name": "ipython",
    "version": 3
   },
   "file_extension": ".py",
   "mimetype": "text/x-python",
   "name": "python",
   "nbconvert_exporter": "python",
   "pygments_lexer": "ipython3",
   "version": "3.7.8"
  },
  "toc": {
   "base_numbering": 1,
   "nav_menu": {},
   "number_sections": true,
   "sideBar": true,
   "skip_h1_title": true,
   "title_cell": "Table of Contents",
   "title_sidebar": "Contents",
   "toc_cell": false,
   "toc_position": {},
   "toc_section_display": true,
   "toc_window_display": false
  }
 },
 "nbformat": 4,
 "nbformat_minor": 4
}
